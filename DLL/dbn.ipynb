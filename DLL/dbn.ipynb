{
 "cells": [
  {
   "cell_type": "code",
   "execution_count": 1,
   "metadata": {},
   "outputs": [
    {
     "name": "stdout",
     "output_type": "stream",
     "text": [
      "WARNING:tensorflow:From c:\\Users\\51man\\AppData\\Local\\Programs\\Python\\Python311\\Lib\\site-packages\\keras\\src\\losses.py:2976: The name tf.losses.sparse_softmax_cross_entropy is deprecated. Please use tf.compat.v1.losses.sparse_softmax_cross_entropy instead.\n",
      "\n"
     ]
    }
   ],
   "source": [
    "import numpy as np\n",
    "from tensorflow.keras.datasets import mnist\n",
    "from tensorflow.keras import layers, models, regularizers"
   ]
  },
  {
   "cell_type": "code",
   "execution_count": 2,
   "metadata": {},
   "outputs": [],
   "source": [
    "class RBM:\n",
    "    def __init__(self, visible_size, hidden_size):\n",
    "        self.visible_size = visible_size\n",
    "        self.hidden_size = hidden_size\n",
    "        self.weights = np.random.randn(visible_size, hidden_size) * 0.1\n",
    "        self.visible_bias = np.zeros(visible_size)\n",
    "        self.hidden_bias = np.zeros(hidden_size)\n",
    "\n",
    "    def sigmoid(self, x):\n",
    "        return 1 / (1 + np.exp(-x))\n",
    "\n",
    "    def h_given_v(self, v0):\n",
    "        h1_mean = self.sigmoid(np.dot(v0, self.weights) + self.hidden_bias)\n",
    "        h1 = h1_mean + np.random.randn(*h1_mean.shape)\n",
    "        return h1\n",
    "\n",
    "    def v_given_h(self, h0):\n",
    "        v1_mean = self.sigmoid(np.dot(h0, self.weights.T) + self.visible_bias)\n",
    "        v1 = v1_mean + np.random.randn(*v1_mean.shape)\n",
    "        return v1\n",
    "\n",
    "    def contrastive_divergence(self, v0):\n",
    "        h0 = self.h_given_v(v0)\n",
    "        v1 = self.v_given_h(h0)\n",
    "        h1 = self.h_given_v(v1)\n",
    "\n",
    "        dW = np.dot(v0.T, h0) - np.dot(v1.T, h1)\n",
    "        self.visible_bias = np.mean(v0 - v1, axis=0)\n",
    "        self.hidden_bias = np.mean(h0 - h1, axis=0)\n",
    "\n",
    "        return dW\n",
    "\n",
    "    def train(self, data, epochs=10, batch_size=64):\n",
    "        for epoch in range(epochs):\n",
    "            np.random.shuffle(data)\n",
    "            for i in range(0, len(data), batch_size):\n",
    "                batch = data[i:i+batch_size]\n",
    "                dW = self.contrastive_divergence(batch)\n",
    "                self.weights += dW"
   ]
  },
  {
   "cell_type": "code",
   "execution_count": 3,
   "metadata": {},
   "outputs": [],
   "source": [
    "class DBN:\n",
    "    def __init__(self, rbm_layers):\n",
    "        self.rbm_layers = rbm_layers\n",
    "        self.rbms = []\n",
    "        for visible_size, hidden_size in rbm_layers:\n",
    "            self.rbms.append(RBM(visible_size, hidden_size))\n",
    "\n",
    "    def fit(self, train_data):\n",
    "        input_data = train_data\n",
    "        for rbm in self.rbms:\n",
    "            rbm.train(input_data)\n",
    "            input_data = rbm.h_given_v(input_data)\n",
    "\n",
    "    def transform(self, data):\n",
    "        transformed_data = data\n",
    "        for rbm in self.rbms:\n",
    "            transformed_data = rbm.sigmoid(np.dot(transformed_data, rbm.weights) + rbm.hidden_bias)\n",
    "        return transformed_data\n",
    "\n",
    "    def reconstruct(self, data):\n",
    "        reconstructed_data = data\n",
    "        for rbm in reversed(self.rbms):\n",
    "            reconstructed_data = rbm.sigmoid(np.dot(reconstructed_data, rbm.weights.T) + rbm.visible_bias)\n",
    "        return reconstructed_data\n"
   ]
  },
  {
   "cell_type": "code",
   "execution_count": 4,
   "metadata": {},
   "outputs": [
    {
     "name": "stderr",
     "output_type": "stream",
     "text": [
      "C:\\Users\\51man\\AppData\\Local\\Temp\\ipykernel_18492\\3376422538.py:10: RuntimeWarning: overflow encountered in exp\n",
      "  return 1 / (1 + np.exp(-x))\n"
     ]
    }
   ],
   "source": [
    "\n",
    "(train_images, train_labels), (test_images, test_labels) = mnist.load_data()\n",
    "train_images, test_images = train_images / 255.0, test_images / 255.0\n",
    "\n",
    "train_images = train_images.reshape((-1, 28*28))\n",
    "test_images = test_images.reshape((-1, 28*28))\n",
    "\n",
    "rbm_layers = [(784, 500), (500, 200), (200, 100)]\n",
    "dbn = DBN(rbm_layers)\n",
    "dbn.fit(train_images)\n",
    "train_features = dbn.transform(train_images)\n",
    "test_features = dbn.transform(test_images)"
   ]
  },
  {
   "cell_type": "code",
   "execution_count": 5,
   "metadata": {},
   "outputs": [
    {
     "name": "stdout",
     "output_type": "stream",
     "text": [
      "WARNING:tensorflow:From c:\\Users\\51man\\AppData\\Local\\Programs\\Python\\Python311\\Lib\\site-packages\\keras\\src\\backend.py:873: The name tf.get_default_graph is deprecated. Please use tf.compat.v1.get_default_graph instead.\n",
      "\n"
     ]
    }
   ],
   "source": [
    "\n",
    "model = models.Sequential([\n",
    "    layers.Dense(512, activation='relu', kernel_regularizer=regularizers.l2(0.001)),\n",
    "    layers.Dropout(0.5),\n",
    "    layers.Dense(256, activation='relu', kernel_regularizer=regularizers.l2(0.001)),\n",
    "    layers.Dropout(0.5),\n",
    "    layers.Dense(128, activation='relu', kernel_regularizer=regularizers.l2(0.001)),\n",
    "    layers.Dropout(0.5),\n",
    "    layers.Dense(10, activation='softmax')\n",
    "])"
   ]
  },
  {
   "cell_type": "code",
   "execution_count": 6,
   "metadata": {},
   "outputs": [
    {
     "name": "stdout",
     "output_type": "stream",
     "text": [
      "WARNING:tensorflow:From c:\\Users\\51man\\AppData\\Local\\Programs\\Python\\Python311\\Lib\\site-packages\\keras\\src\\optimizers\\__init__.py:309: The name tf.train.Optimizer is deprecated. Please use tf.compat.v1.train.Optimizer instead.\n",
      "\n"
     ]
    }
   ],
   "source": [
    "model.compile(optimizer='adam',\n",
    "              loss='sparse_categorical_crossentropy',\n",
    "              metrics=['accuracy'])"
   ]
  },
  {
   "cell_type": "code",
   "execution_count": 7,
   "metadata": {},
   "outputs": [
    {
     "name": "stdout",
     "output_type": "stream",
     "text": [
      "Epoch 1/10\n",
      "WARNING:tensorflow:From c:\\Users\\51man\\AppData\\Local\\Programs\\Python\\Python311\\Lib\\site-packages\\keras\\src\\utils\\tf_utils.py:492: The name tf.ragged.RaggedTensorValue is deprecated. Please use tf.compat.v1.ragged.RaggedTensorValue instead.\n",
      "\n",
      "WARNING:tensorflow:From c:\\Users\\51man\\AppData\\Local\\Programs\\Python\\Python311\\Lib\\site-packages\\keras\\src\\engine\\base_layer_utils.py:384: The name tf.executing_eagerly_outside_functions is deprecated. Please use tf.compat.v1.executing_eagerly_outside_functions instead.\n",
      "\n",
      "938/938 [==============================] - 5s 4ms/step - loss: 2.4578 - accuracy: 0.1085 - val_loss: 2.3235 - val_accuracy: 0.1135\n",
      "Epoch 2/10\n",
      "938/938 [==============================] - 4s 4ms/step - loss: 2.3088 - accuracy: 0.1123 - val_loss: 2.3023 - val_accuracy: 0.1135\n",
      "Epoch 3/10\n",
      "938/938 [==============================] - 4s 4ms/step - loss: 2.3017 - accuracy: 0.1124 - val_loss: 2.3011 - val_accuracy: 0.1135\n",
      "Epoch 4/10\n",
      "938/938 [==============================] - 4s 4ms/step - loss: 2.3013 - accuracy: 0.1124 - val_loss: 2.3011 - val_accuracy: 0.1135\n",
      "Epoch 5/10\n",
      "938/938 [==============================] - 3s 3ms/step - loss: 2.3013 - accuracy: 0.1124 - val_loss: 2.3011 - val_accuracy: 0.1135\n",
      "Epoch 6/10\n",
      "938/938 [==============================] - 3s 3ms/step - loss: 2.3013 - accuracy: 0.1124 - val_loss: 2.3011 - val_accuracy: 0.1135\n",
      "Epoch 7/10\n",
      "938/938 [==============================] - 3s 4ms/step - loss: 2.3013 - accuracy: 0.1124 - val_loss: 2.3010 - val_accuracy: 0.1135\n",
      "Epoch 8/10\n",
      "938/938 [==============================] - 3s 4ms/step - loss: 2.3013 - accuracy: 0.1124 - val_loss: 2.3010 - val_accuracy: 0.1135\n",
      "Epoch 9/10\n",
      "938/938 [==============================] - 3s 4ms/step - loss: 2.3013 - accuracy: 0.1124 - val_loss: 2.3010 - val_accuracy: 0.1135\n",
      "Epoch 10/10\n",
      "938/938 [==============================] - 4s 4ms/step - loss: 2.3013 - accuracy: 0.1124 - val_loss: 2.3011 - val_accuracy: 0.1135\n"
     ]
    }
   ],
   "source": [
    "history = model.fit(train_features, train_labels, epochs=10, batch_size=64, validation_data=(test_features, test_labels))"
   ]
  },
  {
   "cell_type": "code",
   "execution_count": 8,
   "metadata": {},
   "outputs": [
    {
     "name": "stdout",
     "output_type": "stream",
     "text": [
      "313/313 [==============================] - 0s 1ms/step - loss: 2.3011 - accuracy: 0.1135\n",
      "Accuracy :11.35%\n"
     ]
    }
   ],
   "source": [
    "acc = model.evaluate(test_features,test_labels)\n",
    "print(f\"Accuracy :{acc[1]*100:.2f}%\")"
   ]
  },
  {
   "cell_type": "code",
   "execution_count": 9,
   "metadata": {},
   "outputs": [
    {
     "data": {
      "image/png": "[encoded data removed]",
      "text/plain": [
       "<Figure size 640x480 with 1 Axes>"
      ]
     },
     "metadata": {},
     "output_type": "display_data"
    }
   ],
   "source": [
    "import matplotlib.pyplot as plt\n",
    "plt.plot(range(10),history.history['loss'],label = 'Loss')\n",
    "plt.plot(range(10),history.history['accuracy'],label = 'Accuracy')\n",
    "plt.xlabel('Epochs')\n",
    "plt.legend()\n",
    "plt.show()"
   ]
  },
  {
   "cell_type": "code",
   "execution_count": 10,
   "metadata": {},
   "outputs": [
    {
     "name": "stderr",
     "output_type": "stream",
     "text": [
      "C:\\Users\\51man\\AppData\\Local\\Temp\\ipykernel_18492\\3376422538.py:10: RuntimeWarning: overflow encountered in exp\n",
      "  return 1 / (1 + np.exp(-x))\n"
     ]
    },
    {
     "data": {
      "image/png": "[encoded data removed]",
      "text/plain": [
       "<Figure size 1200x600 with 10 Axes>"
      ]
     },
     "metadata": {},
     "output_type": "display_data"
    }
   ],
   "source": [
    "import matplotlib.pyplot as plt\n",
    "\n",
    "sample_indices = [i for i in range(5)] \n",
    "\n",
    "plt.figure(figsize=(12, 6))\n",
    "num_samples = len(sample_indices)\n",
    "\n",
    "for i, idx in enumerate(sample_indices, 1):\n",
    "\n",
    "    plt.subplot(2, num_samples, i)\n",
    "    plt.imshow(train_images[idx].reshape(28, 28), cmap='gray')\n",
    "    plt.title('Original Image')\n",
    "    plt.axis('off')\n",
    "\n",
    "    reconstructed_data = dbn.reconstruct(dbn.transform(train_images[idx][None]))[0]\n",
    "\n",
    "    plt.subplot(2, num_samples, num_samples + i)\n",
    "    plt.imshow(reconstructed_data.reshape(28, 28), cmap='gray')\n",
    "    plt.title('Reconstructed Image')\n",
    "    plt.axis('off')\n",
    "\n",
    "plt.tight_layout()\n",
    "plt.show()\n"
   ]
  }
 ],
 "metadata": {
  "kernelspec": {
   "display_name": "Python 3",
   "language": "python",
   "name": "python3"
  },
  "language_info": {
   "codemirror_mode": {
    "name": "ipython",
    "version": 3
   },
   "file_extension": ".py",
   "mimetype": "text/x-python",
   "name": "python",
   "nbconvert_exporter": "python",
   "pygments_lexer": "ipython3",
   "version": "3.11.7"
  }
 },
 "nbformat": 4,
 "nbformat_minor": 2
}
