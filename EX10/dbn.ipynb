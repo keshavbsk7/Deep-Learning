{
 "cells": [
  {
   "cell_type": "code",
   "execution_count": 1,
   "metadata": {},
   "outputs": [
    {
     "name": "stdout",
     "output_type": "stream",
     "text": [
      "WARNING:tensorflow:From C:\\Users\\Nitheesh\\AppData\\Local\\Packages\\PythonSoftwareFoundation.Python.3.11_qbz5n2kfra8p0\\LocalCache\\local-packages\\Python311\\site-packages\\keras\\src\\losses.py:2976: The name tf.losses.sparse_softmax_cross_entropy is deprecated. Please use tf.compat.v1.losses.sparse_softmax_cross_entropy instead.\n",
      "\n"
     ]
    }
   ],
   "source": [
    "import numpy as np\n",
    "import tensorflow as tf"
   ]
  },
  {
   "cell_type": "code",
   "execution_count": 2,
   "metadata": {},
   "outputs": [],
   "source": [
    "class RBM:\n",
    "    def __init__(self, num_visible, num_hidden, learning_rate=0.1, epochs=10, batch_size=10):\n",
    "        self.num_visible = num_visible\n",
    "        self.num_hidden = num_hidden\n",
    "        self.learning_rate = learning_rate\n",
    "        self.epochs = epochs\n",
    "        self.batch_size = batch_size\n",
    "        \n",
    "        self.weights = tf.Variable(tf.random.normal([num_visible, num_hidden], stddev=0.1), dtype=tf.float32)\n",
    "        self.visible_bias = tf.Variable(tf.zeros([num_visible]), dtype=tf.float32)\n",
    "        self.hidden_bias = tf.Variable(tf.zeros([num_hidden]), dtype=tf.float32)\n",
    "    \n",
    "    def _sigmoid(self, x):\n",
    "        return 1 / (1 + tf.exp(-x))\n",
    "    \n",
    "    def _sample_hidden(self, visible_probabilities):\n",
    "        hidden_probabilities = self._sigmoid(tf.matmul(visible_probabilities, self.weights) + self.hidden_bias)\n",
    "        return hidden_probabilities, tf.nn.relu(tf.sign(hidden_probabilities - tf.random.uniform(tf.shape(hidden_probabilities))))\n",
    "    \n",
    "    def _sample_visible(self, hidden_probabilities):\n",
    "        visible_probabilities = self._sigmoid(tf.matmul(hidden_probabilities, tf.transpose(self.weights)) + self.visible_bias)\n",
    "        return visible_probabilities, tf.nn.relu(tf.sign(visible_probabilities - tf.random.uniform(tf.shape(visible_probabilities))))\n",
    "    \n",
    "    def train(self, data):\n",
    "        for epoch in range(self.epochs):\n",
    "            reconstruction_error = 0.0\n",
    "            for i in range(0, len(data), self.batch_size):\n",
    "                batch = data[i:i+self.batch_size]\n",
    "                visible_probabilities_0 = batch\n",
    "                hidden_probabilities_0, hidden_samples_0 = self._sample_hidden(visible_probabilities_0)\n",
    "                visible_probabilities_k, visible_samples_k = self._sample_visible(hidden_samples_0)\n",
    "                hidden_probabilities_k, _ = self._sample_hidden(visible_probabilities_k)\n",
    "                \n",
    "                delta_weights = tf.matmul(tf.transpose(visible_probabilities_0), hidden_probabilities_0) - tf.matmul(tf.transpose(visible_probabilities_k), hidden_probabilities_k)\n",
    "                self.weights.assign_add(self.learning_rate * delta_weights / len(data))\n",
    "                self.visible_bias.assign_add(self.learning_rate * tf.reduce_mean(visible_probabilities_0 - visible_probabilities_k, axis=0))\n",
    "                self.hidden_bias.assign_add(self.learning_rate * tf.reduce_mean(hidden_probabilities_0 - hidden_probabilities_k, axis=0))\n",
    "                \n",
    "                reconstruction_error += tf.reduce_mean(tf.square(visible_probabilities_0 - visible_probabilities_k))\n",
    "                \n",
    "            print(\"Epoch {}, Reconstruction Error: {}\".format(epoch+1, reconstruction_error))"
   ]
  },
  {
   "cell_type": "code",
   "execution_count": 3,
   "metadata": {},
   "outputs": [],
   "source": [
    "class DeepBeliefNetwork:\n",
    "    def __init__(self, rbm_layers, rbm_learning_rate=0.1, rbm_epochs=10, rbm_batch_size=10):\n",
    "        self.rbm_layers = rbm_layers\n",
    "        self.rbm_learning_rate = rbm_learning_rate\n",
    "        self.rbm_epochs = rbm_epochs\n",
    "        self.rbm_batch_size = rbm_batch_size\n",
    "        self.rbms = []\n",
    "    \n",
    "    def add_rbm_layer(self, num_visible, num_hidden):\n",
    "        rbm = RBM(num_visible=num_visible, num_hidden=num_hidden,\n",
    "                  learning_rate=self.rbm_learning_rate,\n",
    "                  epochs=self.rbm_epochs, batch_size=self.rbm_batch_size)\n",
    "        self.rbms.append(rbm)\n",
    "    \n",
    "    def train(self, data):\n",
    "        visible_data = data\n",
    "        for rbm in self.rbms:\n",
    "            print(f\"Training RBM: {rbm.num_visible} -> {rbm.num_hidden}\")\n",
    "            rbm.train(visible_data)\n",
    "            hidden_features = rbm._sample_hidden(visible_data)[0]\n",
    "            visible_data = hidden_features.numpy()\n",
    "    \n",
    "    def transform(self, data):\n",
    "        visible_data = data\n",
    "        for rbm in self.rbms:\n",
    "            hidden_features = rbm._sample_hidden(visible_data)[0]\n",
    "            visible_data = hidden_features.numpy()\n",
    "        return visible_data"
   ]
  },
  {
   "cell_type": "code",
   "execution_count": 4,
   "metadata": {},
   "outputs": [
    {
     "name": "stdout",
     "output_type": "stream",
     "text": [
      "Downloading data from https://storage.googleapis.com/tensorflow/tf-keras-datasets/mnist.npz\n",
      "11490434/11490434 [==============================] - 3s 0us/step\n"
     ]
    }
   ],
   "source": [
    "mnist = tf.keras.datasets.mnist\n",
    "(train_images, train_labels), (test_images, test_labels) = mnist.load_data()\n",
    "train_images, test_images = train_images / 255.0, test_images / 255.0"
   ]
  },
  {
   "cell_type": "code",
   "execution_count": 9,
   "metadata": {},
   "outputs": [],
   "source": [
    "train_images = train_images.reshape(train_images.shape[0], -1).astype('float32')\n",
    "test_images = test_images.reshape(test_images.shape[0], -1).astype('float32')"
   ]
  },
  {
   "cell_type": "code",
   "execution_count": 6,
   "metadata": {},
   "outputs": [
    {
     "name": "stdout",
     "output_type": "stream",
     "text": [
      "Training RBM: 784 -> 500\n",
      "Epoch 1, Reconstruction Error: 42.36492919921875\n",
      "Epoch 2, Reconstruction Error: 35.15315246582031\n",
      "Epoch 3, Reconstruction Error: 34.13801193237305\n",
      "Epoch 4, Reconstruction Error: 33.16805648803711\n",
      "Epoch 5, Reconstruction Error: 32.21097946166992\n",
      "Epoch 6, Reconstruction Error: 31.25092124938965\n",
      "Epoch 7, Reconstruction Error: 30.318477630615234\n",
      "Epoch 8, Reconstruction Error: 29.405179977416992\n",
      "Epoch 9, Reconstruction Error: 28.53005599975586\n",
      "Epoch 10, Reconstruction Error: 27.702219009399414\n",
      "Training RBM: 500 -> 200\n",
      "Epoch 1, Reconstruction Error: 34.395240783691406\n",
      "Epoch 2, Reconstruction Error: 33.00694274902344\n",
      "Epoch 3, Reconstruction Error: 32.170841217041016\n",
      "Epoch 4, Reconstruction Error: 31.48993682861328\n",
      "Epoch 5, Reconstruction Error: 30.940654754638672\n",
      "Epoch 6, Reconstruction Error: 30.461877822875977\n",
      "Epoch 7, Reconstruction Error: 30.034025192260742\n",
      "Epoch 8, Reconstruction Error: 29.6236629486084\n",
      "Epoch 9, Reconstruction Error: 29.23529052734375\n",
      "Epoch 10, Reconstruction Error: 28.842403411865234\n"
     ]
    }
   ],
   "source": [
    "dbn = DeepBeliefNetwork(rbm_layers=[(784, 500), (500, 200)], rbm_epochs=10, rbm_batch_size=100)\n",
    "\n",
    "for num_visible, num_hidden in dbn.rbm_layers:\n",
    "    dbn.add_rbm_layer(num_visible, num_hidden)\n",
    "    \n",
    "dbn.train(train_images)"
   ]
  },
  {
   "cell_type": "code",
   "execution_count": 1,
   "metadata": {},
   "outputs": [],
   "source": [
    "import matplotlib.pyplot as plt\n",
    "\n",
    "def plot_images(original_images, reconstructed_images, num_images=6):\n",
    "    plt.figure(figsize=(25, 9))\n",
    "    for i in range(num_images):\n",
    "        \n",
    "        plt.subplot(2, num_images, i + 1)\n",
    "        plt.imshow(original_images[i].reshape(28, 28), cmap='gray')\n",
    "        plt.title('Original')\n",
    "        plt.axis('off')\n",
    "\n",
    "        plt.subplot(2, num_images, i + 1 + num_images)\n",
    "        plt.imshow(reconstructed_images[i].numpy().reshape(28, 28), cmap='gray')\n",
    "        plt.title('Reconstructed')\n",
    "        plt.axis('off')\n",
    "    plt.show()"
   ]
  },
  {
   "cell_type": "code",
   "execution_count": 8,
   "metadata": {},
   "outputs": [
    {
     "data": {
      "image/png": "[encoded data removed]",
      "text/plain": [
       "<Figure size 2500x900 with 12 Axes>"
      ]
     },
     "metadata": {},
     "output_type": "display_data"
    }
   ],
   "source": [
    "transformed_test_images = tf.convert_to_tensor(test_images)\n",
    "for rbm in dbn.rbms:\n",
    "    transformed_test_images = rbm._sample_hidden(transformed_test_images)[0]\n",
    "\n",
    "reconstructed_test_images = transformed_test_images\n",
    "for rbm in reversed(dbn.rbms):\n",
    "    reconstructed_test_images = rbm._sample_visible(reconstructed_test_images)[0]\n",
    "\n",
    "plot_images(test_images, reconstructed_test_images)"
   ]
  },
  {
   "cell_type": "code",
   "execution_count": null,
   "metadata": {},
   "outputs": [],
   "source": []
  }
 ],
 "metadata": {
  "kernelspec": {
   "display_name": "Python 3",
   "language": "python",
   "name": "python3"
  },
  "language_info": {
   "codemirror_mode": {
    "name": "ipython",
    "version": 3
   },
   "file_extension": ".py",
   "mimetype": "text/x-python",
   "name": "python",
   "nbconvert_exporter": "python",
   "pygments_lexer": "ipython3",
   "version": "3.11.9"
  }
 },
 "nbformat": 4,
 "nbformat_minor": 2
}
