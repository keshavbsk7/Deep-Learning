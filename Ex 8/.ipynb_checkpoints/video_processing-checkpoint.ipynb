{
 "cells": [
  {
   "cell_type": "code",
   "execution_count": 1,
   "metadata": {},
   "outputs": [],
   "source": [
    "import tensorflow as tf\n",
    "from tensorflow.keras.models import Sequential\n",
    "from tensorflow.keras.layers import Conv3D, MaxPooling3D, Flatten, Dense, Dropout\n",
    "import matplotlib.pyplot as plt\n",
    "import os\n",
    "import cv2\n",
    "import numpy as np\n",
    "import pandas as pd"
   ]
  },
  {
   "cell_type": "code",
   "execution_count": 2,
   "metadata": {},
   "outputs": [],
   "source": [
    "height = 64\n",
    "width = 64\n",
    "desired_frames = 30  \n",
    "channels = 3"
   ]
  },
  {
   "cell_type": "code",
   "execution_count": 3,
   "metadata": {},
   "outputs": [],
   "source": [
    "train_dir = 'UCF101/train'\n",
    "test_dir = 'UCF101/test'"
   ]
  },
  {
   "cell_type": "code",
   "execution_count": 5,
   "metadata": {},
   "outputs": [
    {
     "ename": "FileNotFoundError",
     "evalue": "[Errno 2] No such file or directory: 'UCF101/train.csv'",
     "output_type": "error",
     "traceback": [
      "\u001b[1;31m---------------------------------------------------------------------------\u001b[0m",
      "\u001b[1;31mFileNotFoundError\u001b[0m                         Traceback (most recent call last)",
      "Input \u001b[1;32mIn [5]\u001b[0m, in \u001b[0;36m<cell line: 2>\u001b[1;34m()\u001b[0m\n\u001b[0;32m      1\u001b[0m train_csv_path \u001b[38;5;241m=\u001b[39m \u001b[38;5;124m'\u001b[39m\u001b[38;5;124mUCF101/train.csv\u001b[39m\u001b[38;5;124m'\u001b[39m\n\u001b[1;32m----> 2\u001b[0m train_df \u001b[38;5;241m=\u001b[39m \u001b[43mpd\u001b[49m\u001b[38;5;241;43m.\u001b[39;49m\u001b[43mread_csv\u001b[49m\u001b[43m(\u001b[49m\u001b[43mtrain_csv_path\u001b[49m\u001b[43m)\u001b[49m\n",
      "File \u001b[1;32m~\\anaconda3\\lib\\site-packages\\pandas\\util\\_decorators.py:311\u001b[0m, in \u001b[0;36mdeprecate_nonkeyword_arguments.<locals>.decorate.<locals>.wrapper\u001b[1;34m(*args, **kwargs)\u001b[0m\n\u001b[0;32m    305\u001b[0m \u001b[38;5;28;01mif\u001b[39;00m \u001b[38;5;28mlen\u001b[39m(args) \u001b[38;5;241m>\u001b[39m num_allow_args:\n\u001b[0;32m    306\u001b[0m     warnings\u001b[38;5;241m.\u001b[39mwarn(\n\u001b[0;32m    307\u001b[0m         msg\u001b[38;5;241m.\u001b[39mformat(arguments\u001b[38;5;241m=\u001b[39marguments),\n\u001b[0;32m    308\u001b[0m         \u001b[38;5;167;01mFutureWarning\u001b[39;00m,\n\u001b[0;32m    309\u001b[0m         stacklevel\u001b[38;5;241m=\u001b[39mstacklevel,\n\u001b[0;32m    310\u001b[0m     )\n\u001b[1;32m--> 311\u001b[0m \u001b[38;5;28;01mreturn\u001b[39;00m func(\u001b[38;5;241m*\u001b[39margs, \u001b[38;5;241m*\u001b[39m\u001b[38;5;241m*\u001b[39mkwargs)\n",
      "File \u001b[1;32m~\\anaconda3\\lib\\site-packages\\pandas\\io\\parsers\\readers.py:680\u001b[0m, in \u001b[0;36mread_csv\u001b[1;34m(filepath_or_buffer, sep, delimiter, header, names, index_col, usecols, squeeze, prefix, mangle_dupe_cols, dtype, engine, converters, true_values, false_values, skipinitialspace, skiprows, skipfooter, nrows, na_values, keep_default_na, na_filter, verbose, skip_blank_lines, parse_dates, infer_datetime_format, keep_date_col, date_parser, dayfirst, cache_dates, iterator, chunksize, compression, thousands, decimal, lineterminator, quotechar, quoting, doublequote, escapechar, comment, encoding, encoding_errors, dialect, error_bad_lines, warn_bad_lines, on_bad_lines, delim_whitespace, low_memory, memory_map, float_precision, storage_options)\u001b[0m\n\u001b[0;32m    665\u001b[0m kwds_defaults \u001b[38;5;241m=\u001b[39m _refine_defaults_read(\n\u001b[0;32m    666\u001b[0m     dialect,\n\u001b[0;32m    667\u001b[0m     delimiter,\n\u001b[1;32m   (...)\u001b[0m\n\u001b[0;32m    676\u001b[0m     defaults\u001b[38;5;241m=\u001b[39m{\u001b[38;5;124m\"\u001b[39m\u001b[38;5;124mdelimiter\u001b[39m\u001b[38;5;124m\"\u001b[39m: \u001b[38;5;124m\"\u001b[39m\u001b[38;5;124m,\u001b[39m\u001b[38;5;124m\"\u001b[39m},\n\u001b[0;32m    677\u001b[0m )\n\u001b[0;32m    678\u001b[0m kwds\u001b[38;5;241m.\u001b[39mupdate(kwds_defaults)\n\u001b[1;32m--> 680\u001b[0m \u001b[38;5;28;01mreturn\u001b[39;00m \u001b[43m_read\u001b[49m\u001b[43m(\u001b[49m\u001b[43mfilepath_or_buffer\u001b[49m\u001b[43m,\u001b[49m\u001b[43m \u001b[49m\u001b[43mkwds\u001b[49m\u001b[43m)\u001b[49m\n",
      "File \u001b[1;32m~\\anaconda3\\lib\\site-packages\\pandas\\io\\parsers\\readers.py:575\u001b[0m, in \u001b[0;36m_read\u001b[1;34m(filepath_or_buffer, kwds)\u001b[0m\n\u001b[0;32m    572\u001b[0m _validate_names(kwds\u001b[38;5;241m.\u001b[39mget(\u001b[38;5;124m\"\u001b[39m\u001b[38;5;124mnames\u001b[39m\u001b[38;5;124m\"\u001b[39m, \u001b[38;5;28;01mNone\u001b[39;00m))\n\u001b[0;32m    574\u001b[0m \u001b[38;5;66;03m# Create the parser.\u001b[39;00m\n\u001b[1;32m--> 575\u001b[0m parser \u001b[38;5;241m=\u001b[39m TextFileReader(filepath_or_buffer, \u001b[38;5;241m*\u001b[39m\u001b[38;5;241m*\u001b[39mkwds)\n\u001b[0;32m    577\u001b[0m \u001b[38;5;28;01mif\u001b[39;00m chunksize \u001b[38;5;129;01mor\u001b[39;00m iterator:\n\u001b[0;32m    578\u001b[0m     \u001b[38;5;28;01mreturn\u001b[39;00m parser\n",
      "File \u001b[1;32m~\\anaconda3\\lib\\site-packages\\pandas\\io\\parsers\\readers.py:933\u001b[0m, in \u001b[0;36mTextFileReader.__init__\u001b[1;34m(self, f, engine, **kwds)\u001b[0m\n\u001b[0;32m    930\u001b[0m     \u001b[38;5;28mself\u001b[39m\u001b[38;5;241m.\u001b[39moptions[\u001b[38;5;124m\"\u001b[39m\u001b[38;5;124mhas_index_names\u001b[39m\u001b[38;5;124m\"\u001b[39m] \u001b[38;5;241m=\u001b[39m kwds[\u001b[38;5;124m\"\u001b[39m\u001b[38;5;124mhas_index_names\u001b[39m\u001b[38;5;124m\"\u001b[39m]\n\u001b[0;32m    932\u001b[0m \u001b[38;5;28mself\u001b[39m\u001b[38;5;241m.\u001b[39mhandles: IOHandles \u001b[38;5;241m|\u001b[39m \u001b[38;5;28;01mNone\u001b[39;00m \u001b[38;5;241m=\u001b[39m \u001b[38;5;28;01mNone\u001b[39;00m\n\u001b[1;32m--> 933\u001b[0m \u001b[38;5;28mself\u001b[39m\u001b[38;5;241m.\u001b[39m_engine \u001b[38;5;241m=\u001b[39m \u001b[38;5;28;43mself\u001b[39;49m\u001b[38;5;241;43m.\u001b[39;49m\u001b[43m_make_engine\u001b[49m\u001b[43m(\u001b[49m\u001b[43mf\u001b[49m\u001b[43m,\u001b[49m\u001b[43m \u001b[49m\u001b[38;5;28;43mself\u001b[39;49m\u001b[38;5;241;43m.\u001b[39;49m\u001b[43mengine\u001b[49m\u001b[43m)\u001b[49m\n",
      "File \u001b[1;32m~\\anaconda3\\lib\\site-packages\\pandas\\io\\parsers\\readers.py:1217\u001b[0m, in \u001b[0;36mTextFileReader._make_engine\u001b[1;34m(self, f, engine)\u001b[0m\n\u001b[0;32m   1213\u001b[0m     mode \u001b[38;5;241m=\u001b[39m \u001b[38;5;124m\"\u001b[39m\u001b[38;5;124mrb\u001b[39m\u001b[38;5;124m\"\u001b[39m\n\u001b[0;32m   1214\u001b[0m \u001b[38;5;66;03m# error: No overload variant of \"get_handle\" matches argument types\u001b[39;00m\n\u001b[0;32m   1215\u001b[0m \u001b[38;5;66;03m# \"Union[str, PathLike[str], ReadCsvBuffer[bytes], ReadCsvBuffer[str]]\"\u001b[39;00m\n\u001b[0;32m   1216\u001b[0m \u001b[38;5;66;03m# , \"str\", \"bool\", \"Any\", \"Any\", \"Any\", \"Any\", \"Any\"\u001b[39;00m\n\u001b[1;32m-> 1217\u001b[0m \u001b[38;5;28mself\u001b[39m\u001b[38;5;241m.\u001b[39mhandles \u001b[38;5;241m=\u001b[39m \u001b[43mget_handle\u001b[49m\u001b[43m(\u001b[49m\u001b[43m  \u001b[49m\u001b[38;5;66;43;03m# type: ignore[call-overload]\u001b[39;49;00m\n\u001b[0;32m   1218\u001b[0m \u001b[43m    \u001b[49m\u001b[43mf\u001b[49m\u001b[43m,\u001b[49m\n\u001b[0;32m   1219\u001b[0m \u001b[43m    \u001b[49m\u001b[43mmode\u001b[49m\u001b[43m,\u001b[49m\n\u001b[0;32m   1220\u001b[0m \u001b[43m    \u001b[49m\u001b[43mencoding\u001b[49m\u001b[38;5;241;43m=\u001b[39;49m\u001b[38;5;28;43mself\u001b[39;49m\u001b[38;5;241;43m.\u001b[39;49m\u001b[43moptions\u001b[49m\u001b[38;5;241;43m.\u001b[39;49m\u001b[43mget\u001b[49m\u001b[43m(\u001b[49m\u001b[38;5;124;43m\"\u001b[39;49m\u001b[38;5;124;43mencoding\u001b[39;49m\u001b[38;5;124;43m\"\u001b[39;49m\u001b[43m,\u001b[49m\u001b[43m \u001b[49m\u001b[38;5;28;43;01mNone\u001b[39;49;00m\u001b[43m)\u001b[49m\u001b[43m,\u001b[49m\n\u001b[0;32m   1221\u001b[0m \u001b[43m    \u001b[49m\u001b[43mcompression\u001b[49m\u001b[38;5;241;43m=\u001b[39;49m\u001b[38;5;28;43mself\u001b[39;49m\u001b[38;5;241;43m.\u001b[39;49m\u001b[43moptions\u001b[49m\u001b[38;5;241;43m.\u001b[39;49m\u001b[43mget\u001b[49m\u001b[43m(\u001b[49m\u001b[38;5;124;43m\"\u001b[39;49m\u001b[38;5;124;43mcompression\u001b[39;49m\u001b[38;5;124;43m\"\u001b[39;49m\u001b[43m,\u001b[49m\u001b[43m \u001b[49m\u001b[38;5;28;43;01mNone\u001b[39;49;00m\u001b[43m)\u001b[49m\u001b[43m,\u001b[49m\n\u001b[0;32m   1222\u001b[0m \u001b[43m    \u001b[49m\u001b[43mmemory_map\u001b[49m\u001b[38;5;241;43m=\u001b[39;49m\u001b[38;5;28;43mself\u001b[39;49m\u001b[38;5;241;43m.\u001b[39;49m\u001b[43moptions\u001b[49m\u001b[38;5;241;43m.\u001b[39;49m\u001b[43mget\u001b[49m\u001b[43m(\u001b[49m\u001b[38;5;124;43m\"\u001b[39;49m\u001b[38;5;124;43mmemory_map\u001b[39;49m\u001b[38;5;124;43m\"\u001b[39;49m\u001b[43m,\u001b[49m\u001b[43m \u001b[49m\u001b[38;5;28;43;01mFalse\u001b[39;49;00m\u001b[43m)\u001b[49m\u001b[43m,\u001b[49m\n\u001b[0;32m   1223\u001b[0m \u001b[43m    \u001b[49m\u001b[43mis_text\u001b[49m\u001b[38;5;241;43m=\u001b[39;49m\u001b[43mis_text\u001b[49m\u001b[43m,\u001b[49m\n\u001b[0;32m   1224\u001b[0m \u001b[43m    \u001b[49m\u001b[43merrors\u001b[49m\u001b[38;5;241;43m=\u001b[39;49m\u001b[38;5;28;43mself\u001b[39;49m\u001b[38;5;241;43m.\u001b[39;49m\u001b[43moptions\u001b[49m\u001b[38;5;241;43m.\u001b[39;49m\u001b[43mget\u001b[49m\u001b[43m(\u001b[49m\u001b[38;5;124;43m\"\u001b[39;49m\u001b[38;5;124;43mencoding_errors\u001b[39;49m\u001b[38;5;124;43m\"\u001b[39;49m\u001b[43m,\u001b[49m\u001b[43m \u001b[49m\u001b[38;5;124;43m\"\u001b[39;49m\u001b[38;5;124;43mstrict\u001b[39;49m\u001b[38;5;124;43m\"\u001b[39;49m\u001b[43m)\u001b[49m\u001b[43m,\u001b[49m\n\u001b[0;32m   1225\u001b[0m \u001b[43m    \u001b[49m\u001b[43mstorage_options\u001b[49m\u001b[38;5;241;43m=\u001b[39;49m\u001b[38;5;28;43mself\u001b[39;49m\u001b[38;5;241;43m.\u001b[39;49m\u001b[43moptions\u001b[49m\u001b[38;5;241;43m.\u001b[39;49m\u001b[43mget\u001b[49m\u001b[43m(\u001b[49m\u001b[38;5;124;43m\"\u001b[39;49m\u001b[38;5;124;43mstorage_options\u001b[39;49m\u001b[38;5;124;43m\"\u001b[39;49m\u001b[43m,\u001b[49m\u001b[43m \u001b[49m\u001b[38;5;28;43;01mNone\u001b[39;49;00m\u001b[43m)\u001b[49m\u001b[43m,\u001b[49m\n\u001b[0;32m   1226\u001b[0m \u001b[43m\u001b[49m\u001b[43m)\u001b[49m\n\u001b[0;32m   1227\u001b[0m \u001b[38;5;28;01massert\u001b[39;00m \u001b[38;5;28mself\u001b[39m\u001b[38;5;241m.\u001b[39mhandles \u001b[38;5;129;01mis\u001b[39;00m \u001b[38;5;129;01mnot\u001b[39;00m \u001b[38;5;28;01mNone\u001b[39;00m\n\u001b[0;32m   1228\u001b[0m f \u001b[38;5;241m=\u001b[39m \u001b[38;5;28mself\u001b[39m\u001b[38;5;241m.\u001b[39mhandles\u001b[38;5;241m.\u001b[39mhandle\n",
      "File \u001b[1;32m~\\anaconda3\\lib\\site-packages\\pandas\\io\\common.py:789\u001b[0m, in \u001b[0;36mget_handle\u001b[1;34m(path_or_buf, mode, encoding, compression, memory_map, is_text, errors, storage_options)\u001b[0m\n\u001b[0;32m    784\u001b[0m \u001b[38;5;28;01melif\u001b[39;00m \u001b[38;5;28misinstance\u001b[39m(handle, \u001b[38;5;28mstr\u001b[39m):\n\u001b[0;32m    785\u001b[0m     \u001b[38;5;66;03m# Check whether the filename is to be opened in binary mode.\u001b[39;00m\n\u001b[0;32m    786\u001b[0m     \u001b[38;5;66;03m# Binary mode does not support 'encoding' and 'newline'.\u001b[39;00m\n\u001b[0;32m    787\u001b[0m     \u001b[38;5;28;01mif\u001b[39;00m ioargs\u001b[38;5;241m.\u001b[39mencoding \u001b[38;5;129;01mand\u001b[39;00m \u001b[38;5;124m\"\u001b[39m\u001b[38;5;124mb\u001b[39m\u001b[38;5;124m\"\u001b[39m \u001b[38;5;129;01mnot\u001b[39;00m \u001b[38;5;129;01min\u001b[39;00m ioargs\u001b[38;5;241m.\u001b[39mmode:\n\u001b[0;32m    788\u001b[0m         \u001b[38;5;66;03m# Encoding\u001b[39;00m\n\u001b[1;32m--> 789\u001b[0m         handle \u001b[38;5;241m=\u001b[39m \u001b[38;5;28;43mopen\u001b[39;49m\u001b[43m(\u001b[49m\n\u001b[0;32m    790\u001b[0m \u001b[43m            \u001b[49m\u001b[43mhandle\u001b[49m\u001b[43m,\u001b[49m\n\u001b[0;32m    791\u001b[0m \u001b[43m            \u001b[49m\u001b[43mioargs\u001b[49m\u001b[38;5;241;43m.\u001b[39;49m\u001b[43mmode\u001b[49m\u001b[43m,\u001b[49m\n\u001b[0;32m    792\u001b[0m \u001b[43m            \u001b[49m\u001b[43mencoding\u001b[49m\u001b[38;5;241;43m=\u001b[39;49m\u001b[43mioargs\u001b[49m\u001b[38;5;241;43m.\u001b[39;49m\u001b[43mencoding\u001b[49m\u001b[43m,\u001b[49m\n\u001b[0;32m    793\u001b[0m \u001b[43m            \u001b[49m\u001b[43merrors\u001b[49m\u001b[38;5;241;43m=\u001b[39;49m\u001b[43merrors\u001b[49m\u001b[43m,\u001b[49m\n\u001b[0;32m    794\u001b[0m \u001b[43m            \u001b[49m\u001b[43mnewline\u001b[49m\u001b[38;5;241;43m=\u001b[39;49m\u001b[38;5;124;43m\"\u001b[39;49m\u001b[38;5;124;43m\"\u001b[39;49m\u001b[43m,\u001b[49m\n\u001b[0;32m    795\u001b[0m \u001b[43m        \u001b[49m\u001b[43m)\u001b[49m\n\u001b[0;32m    796\u001b[0m     \u001b[38;5;28;01melse\u001b[39;00m:\n\u001b[0;32m    797\u001b[0m         \u001b[38;5;66;03m# Binary mode\u001b[39;00m\n\u001b[0;32m    798\u001b[0m         handle \u001b[38;5;241m=\u001b[39m \u001b[38;5;28mopen\u001b[39m(handle, ioargs\u001b[38;5;241m.\u001b[39mmode)\n",
      "\u001b[1;31mFileNotFoundError\u001b[0m: [Errno 2] No such file or directory: 'UCF101/train.csv'"
     ]
    }
   ],
   "source": [
    "train_csv_path = 'UCF101/train.csv'\n",
    "train_df = pd.read_csv(train_csv_path)"
   ]
  },
  {
   "cell_type": "code",
   "execution_count": null,
   "metadata": {},
   "outputs": [],
   "source": [
    "test_csv_path = 'UCF101/test.csv'\n",
    "test_df = pd.read_csv(test_csv_path)"
   ]
  },
  {
   "cell_type": "code",
   "execution_count": null,
   "metadata": {},
   "outputs": [],
   "source": [
    "train_videos = []\n",
    "train_labels = []\n",
    "test_videos = []\n",
    "test_labels = []"
   ]
  },
  {
   "cell_type": "code",
   "execution_count": 38,
   "metadata": {},
   "outputs": [],
   "source": [
    "def preprocess_video(video_path):\n",
    "    cap = cv2.VideoCapture(video_path)\n",
    "    frames = []\n",
    "    while True:\n",
    "        ret, frame = cap.read()\n",
    "        if not ret:\n",
    "            break\n",
    "        frame = cv2.resize(frame, (height, width))\n",
    "        frame = frame / 255.0\n",
    "        frames.append(frame)\n",
    "    cap.release()\n",
    "    if len(frames) < desired_frames:\n",
    "        frames.extend([np.zeros((height, width, channels)) for _ in range(desired_frames - len(frames))])\n",
    "    elif len(frames) > desired_frames:\n",
    "        frames = frames[:desired_frames]\n",
    "    return frames"
   ]
  },
  {
   "cell_type": "code",
   "execution_count": 39,
   "metadata": {},
   "outputs": [],
   "source": [
    "label_map = {}\n",
    "next_label = 0\n",
    "for index, row in train_df.iterrows():\n",
    "    video_path = os.path.join(train_dir, row['video_name'])\n",
    "    frames = preprocess_video(video_path)\n",
    "    train_videos.append(frames)\n",
    "    label = row['tag']\n",
    "    if label not in label_map:\n",
    "        label_map[label] = next_label\n",
    "        next_label += 1\n",
    "    train_labels.append(label_map[label])"
   ]
  },
  {
   "cell_type": "code",
   "execution_count": 40,
   "metadata": {},
   "outputs": [],
   "source": [
    "for index, row in test_df.iterrows():\n",
    "    video_path = os.path.join(test_dir, row['video_name'])\n",
    "    frames = preprocess_video(video_path)\n",
    "    test_videos.append(frames)\n",
    "    label = row['tag']\n",
    "    if label not in label_map:\n",
    "        label_map[label] = next_label\n",
    "        next_label += 1\n",
    "    test_labels.append(label_map[label])"
   ]
  },
  {
   "cell_type": "code",
   "execution_count": 41,
   "metadata": {},
   "outputs": [],
   "source": [
    "train_videos = np.array(train_videos)\n",
    "train_labels = np.array(train_labels)\n",
    "test_videos = np.array(test_videos)\n",
    "test_labels = np.array(test_labels)"
   ]
  },
  {
   "cell_type": "code",
   "execution_count": 42,
   "metadata": {},
   "outputs": [],
   "source": [
    "model = Sequential([\n",
    "    Conv3D(64, kernel_size=(3, 3, 3), activation='relu', input_shape=(desired_frames, height, width, channels)),\n",
    "    MaxPooling3D(pool_size=(2, 2, 2)),\n",
    "    Conv3D(128, kernel_size=(3, 3, 3), activation='relu'),\n",
    "    MaxPooling3D(pool_size=(2, 2, 2)),\n",
    "    Conv3D(256, kernel_size=(3, 3, 3), activation='relu'),\n",
    "    MaxPooling3D(pool_size=(2, 2, 2)),\n",
    "    Flatten(),\n",
    "    Dense(512, activation='relu'),\n",
    "    Dropout(0.5),\n",
    "    Dense(5, activation='softmax')\n",
    "])"
   ]
  },
  {
   "cell_type": "code",
   "execution_count": 43,
   "metadata": {},
   "outputs": [],
   "source": [
    "model.compile(optimizer='adam', loss='sparse_categorical_crossentropy', metrics=['accuracy'])"
   ]
  },
  {
   "cell_type": "code",
   "execution_count": 44,
   "metadata": {},
   "outputs": [
    {
     "name": "stdout",
     "output_type": "stream",
     "text": [
      "Epoch 1/10\n",
      "19/19 [==============================] - 53s 3s/step - loss: 1.8757 - accuracy: 0.2626 - val_loss: 1.4306 - val_accuracy: 0.2723\n",
      "Epoch 2/10\n",
      "19/19 [==============================] - 47s 2s/step - loss: 1.1587 - accuracy: 0.5438 - val_loss: 1.0912 - val_accuracy: 0.5536\n",
      "Epoch 3/10\n",
      "19/19 [==============================] - 52s 3s/step - loss: 0.6497 - accuracy: 0.7407 - val_loss: 0.9582 - val_accuracy: 0.6295\n",
      "Epoch 4/10\n",
      "19/19 [==============================] - 59s 3s/step - loss: 0.3687 - accuracy: 0.8603 - val_loss: 1.0647 - val_accuracy: 0.5893\n",
      "Epoch 5/10\n",
      "19/19 [==============================] - 50s 3s/step - loss: 0.2239 - accuracy: 0.9327 - val_loss: 1.2943 - val_accuracy: 0.5625\n",
      "Epoch 6/10\n",
      "19/19 [==============================] - 47s 2s/step - loss: 0.2333 - accuracy: 0.9158 - val_loss: 1.7624 - val_accuracy: 0.5580\n",
      "Epoch 7/10\n",
      "19/19 [==============================] - 47s 2s/step - loss: 0.1078 - accuracy: 0.9646 - val_loss: 0.9461 - val_accuracy: 0.6607\n",
      "Epoch 8/10\n",
      "19/19 [==============================] - 47s 2s/step - loss: 0.0953 - accuracy: 0.9630 - val_loss: 1.3053 - val_accuracy: 0.6696\n",
      "Epoch 9/10\n",
      "19/19 [==============================] - 47s 2s/step - loss: 0.0730 - accuracy: 0.9714 - val_loss: 1.8481 - val_accuracy: 0.6339\n",
      "Epoch 10/10\n",
      "19/19 [==============================] - 48s 3s/step - loss: 0.0507 - accuracy: 0.9815 - val_loss: 1.9731 - val_accuracy: 0.5982\n"
     ]
    }
   ],
   "source": [
    "history = model.fit(train_videos, train_labels, epochs=10, validation_data=(test_videos, test_labels))"
   ]
  },
  {
   "cell_type": "code",
   "execution_count": 45,
   "metadata": {},
   "outputs": [
    {
     "name": "stdout",
     "output_type": "stream",
     "text": [
      "7/7 [==============================] - 5s 701ms/step - loss: 1.9731 - accuracy: 0.5982\n",
      "Test accuracy: 0.5982142686843872\n"
     ]
    }
   ],
   "source": [
    "test_loss, test_acc = model.evaluate(test_videos, test_labels)\n",
    "print(f'Test accuracy: {test_acc}')"
   ]
  },
  {
   "cell_type": "code",
   "execution_count": 46,
   "metadata": {},
   "outputs": [
    {
     "name": "stdout",
     "output_type": "stream",
     "text": [
      "7/7 [==============================] - 5s 668ms/step\n"
     ]
    }
   ],
   "source": [
    "predictions = model.predict(test_videos)"
   ]
  },
  {
   "cell_type": "code",
   "execution_count": 47,
   "metadata": {},
   "outputs": [
    {
     "name": "stdout",
     "output_type": "stream",
     "text": [
      "Predicted label: CricketShot, True label: CricketShot\n",
      "Predicted label: CricketShot, True label: CricketShot\n",
      "Predicted label: CricketShot, True label: CricketShot\n",
      "Predicted label: CricketShot, True label: CricketShot\n",
      "Predicted label: CricketShot, True label: CricketShot\n",
      "Predicted label: CricketShot, True label: CricketShot\n",
      "Predicted label: CricketShot, True label: CricketShot\n",
      "Predicted label: TennisSwing, True label: CricketShot\n",
      "Predicted label: TennisSwing, True label: CricketShot\n",
      "Predicted label: TennisSwing, True label: CricketShot\n",
      "Predicted label: TennisSwing, True label: CricketShot\n",
      "Predicted label: TennisSwing, True label: CricketShot\n",
      "Predicted label: TennisSwing, True label: CricketShot\n",
      "Predicted label: TennisSwing, True label: CricketShot\n",
      "Predicted label: CricketShot, True label: CricketShot\n",
      "Predicted label: CricketShot, True label: CricketShot\n",
      "Predicted label: CricketShot, True label: CricketShot\n",
      "Predicted label: TennisSwing, True label: CricketShot\n",
      "Predicted label: CricketShot, True label: CricketShot\n",
      "Predicted label: CricketShot, True label: CricketShot\n",
      "Predicted label: CricketShot, True label: CricketShot\n",
      "Predicted label: CricketShot, True label: CricketShot\n",
      "Predicted label: CricketShot, True label: CricketShot\n",
      "Predicted label: CricketShot, True label: CricketShot\n",
      "Predicted label: CricketShot, True label: CricketShot\n",
      "Predicted label: CricketShot, True label: CricketShot\n",
      "Predicted label: CricketShot, True label: CricketShot\n",
      "Predicted label: CricketShot, True label: CricketShot\n",
      "Predicted label: CricketShot, True label: CricketShot\n",
      "Predicted label: ShavingBeard, True label: CricketShot\n",
      "Predicted label: CricketShot, True label: CricketShot\n",
      "Predicted label: ShavingBeard, True label: CricketShot\n",
      "Predicted label: CricketShot, True label: CricketShot\n",
      "Predicted label: CricketShot, True label: CricketShot\n",
      "Predicted label: ShavingBeard, True label: CricketShot\n",
      "Predicted label: CricketShot, True label: CricketShot\n",
      "Predicted label: CricketShot, True label: CricketShot\n",
      "Predicted label: CricketShot, True label: CricketShot\n",
      "Predicted label: CricketShot, True label: CricketShot\n",
      "Predicted label: CricketShot, True label: CricketShot\n",
      "Predicted label: CricketShot, True label: CricketShot\n",
      "Predicted label: CricketShot, True label: CricketShot\n",
      "Predicted label: PlayingCello, True label: CricketShot\n",
      "Predicted label: TennisSwing, True label: CricketShot\n",
      "Predicted label: TennisSwing, True label: CricketShot\n",
      "Predicted label: TennisSwing, True label: CricketShot\n",
      "Predicted label: CricketShot, True label: CricketShot\n",
      "Predicted label: TennisSwing, True label: CricketShot\n",
      "Predicted label: TennisSwing, True label: CricketShot\n",
      "Predicted label: Punch, True label: PlayingCello\n",
      "Predicted label: Punch, True label: PlayingCello\n",
      "Predicted label: Punch, True label: PlayingCello\n",
      "Predicted label: Punch, True label: PlayingCello\n",
      "Predicted label: Punch, True label: PlayingCello\n",
      "Predicted label: Punch, True label: PlayingCello\n",
      "Predicted label: Punch, True label: PlayingCello\n",
      "Predicted label: Punch, True label: PlayingCello\n",
      "Predicted label: Punch, True label: PlayingCello\n",
      "Predicted label: Punch, True label: PlayingCello\n",
      "Predicted label: Punch, True label: PlayingCello\n",
      "Predicted label: Punch, True label: PlayingCello\n",
      "Predicted label: Punch, True label: PlayingCello\n",
      "Predicted label: Punch, True label: PlayingCello\n",
      "Predicted label: Punch, True label: PlayingCello\n",
      "Predicted label: Punch, True label: PlayingCello\n",
      "Predicted label: Punch, True label: PlayingCello\n",
      "Predicted label: Punch, True label: PlayingCello\n",
      "Predicted label: Punch, True label: PlayingCello\n",
      "Predicted label: Punch, True label: PlayingCello\n",
      "Predicted label: Punch, True label: PlayingCello\n",
      "Predicted label: Punch, True label: PlayingCello\n",
      "Predicted label: Punch, True label: PlayingCello\n",
      "Predicted label: Punch, True label: PlayingCello\n",
      "Predicted label: Punch, True label: PlayingCello\n",
      "Predicted label: Punch, True label: PlayingCello\n",
      "Predicted label: Punch, True label: PlayingCello\n",
      "Predicted label: Punch, True label: PlayingCello\n",
      "Predicted label: Punch, True label: PlayingCello\n",
      "Predicted label: Punch, True label: PlayingCello\n",
      "Predicted label: Punch, True label: PlayingCello\n",
      "Predicted label: Punch, True label: PlayingCello\n",
      "Predicted label: PlayingCello, True label: PlayingCello\n",
      "Predicted label: PlayingCello, True label: PlayingCello\n",
      "Predicted label: PlayingCello, True label: PlayingCello\n",
      "Predicted label: PlayingCello, True label: PlayingCello\n",
      "Predicted label: PlayingCello, True label: PlayingCello\n",
      "Predicted label: PlayingCello, True label: PlayingCello\n",
      "Predicted label: PlayingCello, True label: PlayingCello\n",
      "Predicted label: PlayingCello, True label: PlayingCello\n",
      "Predicted label: PlayingCello, True label: PlayingCello\n",
      "Predicted label: PlayingCello, True label: PlayingCello\n",
      "Predicted label: PlayingCello, True label: PlayingCello\n",
      "Predicted label: PlayingCello, True label: PlayingCello\n",
      "Predicted label: Punch, True label: Punch\n",
      "Predicted label: Punch, True label: Punch\n",
      "Predicted label: TennisSwing, True label: Punch\n",
      "Predicted label: Punch, True label: Punch\n",
      "Predicted label: Punch, True label: Punch\n",
      "Predicted label: ShavingBeard, True label: Punch\n",
      "Predicted label: Punch, True label: Punch\n",
      "Predicted label: PlayingCello, True label: Punch\n",
      "Predicted label: Punch, True label: Punch\n",
      "Predicted label: Punch, True label: Punch\n",
      "Predicted label: Punch, True label: Punch\n",
      "Predicted label: Punch, True label: Punch\n",
      "Predicted label: Punch, True label: Punch\n",
      "Predicted label: Punch, True label: Punch\n",
      "Predicted label: Punch, True label: Punch\n",
      "Predicted label: Punch, True label: Punch\n",
      "Predicted label: Punch, True label: Punch\n",
      "Predicted label: Punch, True label: Punch\n",
      "Predicted label: Punch, True label: Punch\n",
      "Predicted label: Punch, True label: Punch\n",
      "Predicted label: Punch, True label: Punch\n",
      "Predicted label: Punch, True label: Punch\n",
      "Predicted label: Punch, True label: Punch\n",
      "Predicted label: Punch, True label: Punch\n",
      "Predicted label: Punch, True label: Punch\n",
      "Predicted label: Punch, True label: Punch\n",
      "Predicted label: Punch, True label: Punch\n",
      "Predicted label: Punch, True label: Punch\n",
      "Predicted label: Punch, True label: Punch\n",
      "Predicted label: Punch, True label: Punch\n",
      "Predicted label: Punch, True label: Punch\n",
      "Predicted label: Punch, True label: Punch\n",
      "Predicted label: Punch, True label: Punch\n",
      "Predicted label: Punch, True label: Punch\n",
      "Predicted label: Punch, True label: Punch\n",
      "Predicted label: Punch, True label: Punch\n",
      "Predicted label: Punch, True label: Punch\n",
      "Predicted label: Punch, True label: Punch\n",
      "Predicted label: Punch, True label: Punch\n",
      "Predicted label: PlayingCello, True label: ShavingBeard\n",
      "Predicted label: TennisSwing, True label: ShavingBeard\n",
      "Predicted label: TennisSwing, True label: ShavingBeard\n",
      "Predicted label: PlayingCello, True label: ShavingBeard\n",
      "Predicted label: ShavingBeard, True label: ShavingBeard\n",
      "Predicted label: ShavingBeard, True label: ShavingBeard\n",
      "Predicted label: ShavingBeard, True label: ShavingBeard\n",
      "Predicted label: PlayingCello, True label: ShavingBeard\n",
      "Predicted label: PlayingCello, True label: ShavingBeard\n",
      "Predicted label: PlayingCello, True label: ShavingBeard\n",
      "Predicted label: ShavingBeard, True label: ShavingBeard\n",
      "Predicted label: ShavingBeard, True label: ShavingBeard\n",
      "Predicted label: ShavingBeard, True label: ShavingBeard\n",
      "Predicted label: ShavingBeard, True label: ShavingBeard\n",
      "Predicted label: ShavingBeard, True label: ShavingBeard\n",
      "Predicted label: ShavingBeard, True label: ShavingBeard\n",
      "Predicted label: ShavingBeard, True label: ShavingBeard\n",
      "Predicted label: ShavingBeard, True label: ShavingBeard\n",
      "Predicted label: PlayingCello, True label: ShavingBeard\n",
      "Predicted label: PlayingCello, True label: ShavingBeard\n",
      "Predicted label: PlayingCello, True label: ShavingBeard\n",
      "Predicted label: PlayingCello, True label: ShavingBeard\n",
      "Predicted label: Punch, True label: ShavingBeard\n",
      "Predicted label: Punch, True label: ShavingBeard\n",
      "Predicted label: Punch, True label: ShavingBeard\n",
      "Predicted label: Punch, True label: ShavingBeard\n",
      "Predicted label: Punch, True label: ShavingBeard\n",
      "Predicted label: PlayingCello, True label: ShavingBeard\n",
      "Predicted label: Punch, True label: ShavingBeard\n",
      "Predicted label: TennisSwing, True label: ShavingBeard\n",
      "Predicted label: TennisSwing, True label: ShavingBeard\n",
      "Predicted label: ShavingBeard, True label: ShavingBeard\n",
      "Predicted label: TennisSwing, True label: ShavingBeard\n",
      "Predicted label: ShavingBeard, True label: ShavingBeard\n",
      "Predicted label: ShavingBeard, True label: ShavingBeard\n",
      "Predicted label: TennisSwing, True label: ShavingBeard\n",
      "Predicted label: ShavingBeard, True label: ShavingBeard\n",
      "Predicted label: ShavingBeard, True label: ShavingBeard\n",
      "Predicted label: ShavingBeard, True label: ShavingBeard\n",
      "Predicted label: ShavingBeard, True label: ShavingBeard\n",
      "Predicted label: PlayingCello, True label: ShavingBeard\n",
      "Predicted label: PlayingCello, True label: ShavingBeard\n",
      "Predicted label: ShavingBeard, True label: ShavingBeard\n",
      "Predicted label: CricketShot, True label: TennisSwing\n",
      "Predicted label: CricketShot, True label: TennisSwing\n",
      "Predicted label: CricketShot, True label: TennisSwing\n",
      "Predicted label: CricketShot, True label: TennisSwing\n",
      "Predicted label: CricketShot, True label: TennisSwing\n",
      "Predicted label: CricketShot, True label: TennisSwing\n",
      "Predicted label: CricketShot, True label: TennisSwing\n",
      "Predicted label: Punch, True label: TennisSwing\n",
      "Predicted label: TennisSwing, True label: TennisSwing\n",
      "Predicted label: TennisSwing, True label: TennisSwing\n",
      "Predicted label: TennisSwing, True label: TennisSwing\n",
      "Predicted label: TennisSwing, True label: TennisSwing\n",
      "Predicted label: TennisSwing, True label: TennisSwing\n",
      "Predicted label: TennisSwing, True label: TennisSwing\n",
      "Predicted label: CricketShot, True label: TennisSwing\n",
      "Predicted label: CricketShot, True label: TennisSwing\n",
      "Predicted label: TennisSwing, True label: TennisSwing\n",
      "Predicted label: TennisSwing, True label: TennisSwing\n",
      "Predicted label: CricketShot, True label: TennisSwing\n",
      "Predicted label: CricketShot, True label: TennisSwing\n",
      "Predicted label: CricketShot, True label: TennisSwing\n",
      "Predicted label: TennisSwing, True label: TennisSwing\n",
      "Predicted label: TennisSwing, True label: TennisSwing\n",
      "Predicted label: TennisSwing, True label: TennisSwing\n",
      "Predicted label: TennisSwing, True label: TennisSwing\n",
      "Predicted label: TennisSwing, True label: TennisSwing\n",
      "Predicted label: TennisSwing, True label: TennisSwing\n",
      "Predicted label: TennisSwing, True label: TennisSwing\n",
      "Predicted label: TennisSwing, True label: TennisSwing\n",
      "Predicted label: TennisSwing, True label: TennisSwing\n",
      "Predicted label: TennisSwing, True label: TennisSwing\n",
      "Predicted label: Punch, True label: TennisSwing\n",
      "Predicted label: TennisSwing, True label: TennisSwing\n",
      "Predicted label: TennisSwing, True label: TennisSwing\n",
      "Predicted label: TennisSwing, True label: TennisSwing\n",
      "Predicted label: TennisSwing, True label: TennisSwing\n",
      "Predicted label: TennisSwing, True label: TennisSwing\n",
      "Predicted label: TennisSwing, True label: TennisSwing\n",
      "Predicted label: TennisSwing, True label: TennisSwing\n",
      "Predicted label: TennisSwing, True label: TennisSwing\n",
      "Predicted label: TennisSwing, True label: TennisSwing\n",
      "Predicted label: TennisSwing, True label: TennisSwing\n",
      "Predicted label: TennisSwing, True label: TennisSwing\n",
      "Predicted label: TennisSwing, True label: TennisSwing\n",
      "Predicted label: TennisSwing, True label: TennisSwing\n",
      "Predicted label: TennisSwing, True label: TennisSwing\n",
      "Predicted label: TennisSwing, True label: TennisSwing\n",
      "Predicted label: TennisSwing, True label: TennisSwing\n",
      "Predicted label: TennisSwing, True label: TennisSwing\n"
     ]
    }
   ],
   "source": [
    "reverse_label_map = {v: k for k, v in label_map.items()}\n",
    "\n",
    "predicted_labels = np.argmax(predictions, axis=1)\n",
    "\n",
    "for i in range(len(test_labels)):\n",
    "    predicted_label_name = reverse_label_map[predicted_labels[i]]\n",
    "    true_label_name = reverse_label_map[test_labels[i]]\n",
    "    print(f\"Predicted label: {predicted_label_name}, True label: {true_label_name}\")\n"
   ]
  },
  {
   "cell_type": "code",
   "execution_count": 48,
   "metadata": {},
   "outputs": [
    {
     "data": {
      "image/png": "[encoded data removed]",
      "text/plain": [
       "<Figure size 640x480 with 1 Axes>"
      ]
     },
     "metadata": {},
     "output_type": "display_data"
    }
   ],
   "source": [
    "plt.plot(history.history['loss'], label='Training Loss')\n",
    "plt.plot(history.history['val_loss'], label='Testing Loss')\n",
    "plt.xlabel('Epoch')\n",
    "plt.ylabel('Loss')\n",
    "plt.legend()\n",
    "plt.title('Training and Testing Loss')\n",
    "plt.show()"
   ]
  },
  {
   "cell_type": "code",
   "execution_count": 49,
   "metadata": {},
   "outputs": [
    {
     "data": {
      "image/png": "[encoded data removed]",
      "text/plain": [
       "<IPython.core.display.Image object>"
      ]
     },
     "execution_count": 49,
     "metadata": {},
     "output_type": "execute_result"
    }
   ],
   "source": [
    "import pydot\n",
    "from keras.utils import plot_model\n",
    "plot_model(model, to_file = 'cnn_video.png')"
   ]
  }
 ],
 "metadata": {
  "kernelspec": {
   "display_name": "Python 3 (ipykernel)",
   "language": "python",
   "name": "python3"
  },
  "language_info": {
   "codemirror_mode": {
    "name": "ipython",
    "version": 3
   },
   "file_extension": ".py",
   "mimetype": "text/x-python",
   "name": "python",
   "nbconvert_exporter": "python",
   "pygments_lexer": "ipython3",
   "version": "3.9.12"
  }
 },
 "nbformat": 4,
 "nbformat_minor": 2
}
