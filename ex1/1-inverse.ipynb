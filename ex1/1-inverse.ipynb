{
 "cells": [
  {
   "cell_type": "code",
   "execution_count": 1,
   "metadata": {},
   "outputs": [
    {
     "name": "stdout",
     "output_type": "stream",
     "text": [
      "[[-0.024214659685863876, 0.1524869109947644, 0.3714005235602095, 0.074934554973822, -0.4964005235602095], [0.20091623036649217, 0.03206806282722513, -0.24378272251308902, -0.027159685863874346, 0.11878272251308901], [0.0818062827225131, -0.13678010471204188, -0.05202879581151833, 0.0035994764397905762, 0.17702879581151834], [-0.19895287958115185, 0.03664921465968587, 0.07853403141361257, 0.18324607329842932, -0.07853403141361257], [0.029450261780104715, 0.030759162303664923, 0.021269633507853405, -0.1587041884816754, 0.1037303664921466]]\n"
     ]
    }
   ],
   "source": [
    "def determinant(matrix):\n",
    "    n = len(matrix)\n",
    "    det = 0\n",
    "\n",
    "    if n == 1:\n",
    "        return matrix[0][0]\n",
    "\n",
    "    for i in range(n):\n",
    "        det += ((-1) ** i) * matrix[0][i] * determinant(minor(matrix, 0, i))\n",
    "\n",
    "    return det\n",
    "\n",
    "def minor(matrix, row, col):\n",
    "    return [row[:col] + row[col + 1:] for row in (matrix[:row] + matrix[row + 1:])]\n",
    "\n",
    "def cofactor_matrix(matrix):\n",
    "    n = len(matrix)\n",
    "    return [[((-1) ** (i + j)) * determinant(minor(matrix, i, j)) for j in range(n)] for i in range(n)]\n",
    "\n",
    "def transpose(matrix):\n",
    "    return [[matrix[j][i] for j in range(len(matrix))] for i in range(len(matrix[0]))]\n",
    "\n",
    "def multiply(matrix, a):\n",
    "    return [[a * e for e in row] for row in matrix]\n",
    "\n",
    "def inverse_matrix(matrix):\n",
    "    det = determinant(matrix)\n",
    "\n",
    "    cofact = cofactor_matrix(matrix)\n",
    "    adjoint = transpose(cofact)\n",
    "    inverse = multiply(adjoint, 1.0 / det)\n",
    "\n",
    "    return inverse\n",
    "\n",
    "ma = [[3, 4, 5, 1, 2], [2, 6, 0, 7, 8], [3, 1, 6, 4, 6], [2, 4, 5, 6, 1], [1, 3, 5, 6, 7]]\n",
    "res = inverse_matrix(ma)\n",
    "print(res)\n"
   ]
  },
  {
   "cell_type": "code",
   "execution_count": null,
   "metadata": {},
   "outputs": [],
   "source": []
  }
 ],
 "metadata": {
  "kernelspec": {
   "display_name": "base",
   "language": "python",
   "name": "python3"
  },
  "language_info": {
   "codemirror_mode": {
    "name": "ipython",
    "version": 3
   },
   "file_extension": ".py",
   "mimetype": "text/x-python",
   "name": "python",
   "nbconvert_exporter": "python",
   "pygments_lexer": "ipython3",
   "version": "3.10.11"
  }
 },
 "nbformat": 4,
 "nbformat_minor": 2
}
