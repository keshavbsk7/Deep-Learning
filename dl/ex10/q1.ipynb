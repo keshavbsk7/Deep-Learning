{
  "cells": [
    {
      "cell_type": "code",
      "execution_count": 3,
      "metadata": {
        "colab": {
          "base_uri": "https://localhost:8080/"
        },
        "id": "bobz-MjEb9KY",
        "outputId": "72a1a0db-e93b-4652-e7e0-c9dff920bcba"
      },
      "outputs": [
        {
          "name": "stderr",
          "output_type": "stream",
          "text": [
            "c:\\Users\\PC\\.conda\\envs\\tf\\lib\\site-packages\\sklearn\\datasets\\_openml.py:1002: FutureWarning: The default value of `parser` will change from `'liac-arff'` to `'auto'` in 1.4. You can set `parser='auto'` to silence this warning. Therefore, an `ImportError` will be raised from 1.4 if the dataset is dense and pandas is not installed. Note that the pandas parser may return different data types. See the Notes Section in fetch_openml's API doc for details.\n",
            "  warn(\n"
          ]
        },
        {
          "name": "stdout",
          "output_type": "stream",
          "text": [
            "Epoch 1, Reconstruction Error: 23.172632\n",
            "Epoch 2, Reconstruction Error: 22.201245\n",
            "Epoch 1, Reconstruction Error: 1.126239\n",
            "Epoch 2, Reconstruction Error: 0.414378\n"
          ]
        }
      ],
      "source": [
        "import numpy as np\n",
        "from sklearn.datasets import fetch_openml\n",
        "from sklearn.model_selection import train_test_split\n",
        "from sklearn.preprocessing import binarize\n",
        "import matplotlib.pyplot as plt\n",
        "\n",
        "class RBM:\n",
        "    def __init__(self, num_visible, num_hidden):\n",
        "        self.num_visible = num_visible\n",
        "        self.num_hidden = num_hidden\n",
        "        self.weights = np.random.normal(0, 0.1, size=(num_visible, num_hidden))\n",
        "        self.visible_bias = np.zeros(num_visible)\n",
        "        self.hidden_bias = np.zeros(num_hidden)\n",
        "\n",
        "    def _sigmoid(self, x):\n",
        "        return 1 / (1 + np.exp(-x))\n",
        "\n",
        "    def _gibbs_sampling(self, visible_prob):\n",
        "        hidden_prob = self._sigmoid(np.dot(visible_prob, self.weights) + self.hidden_bias)\n",
        "\n",
        "        visible_prob_reconstructed = self._sigmoid(np.dot(hidden_prob, self.weights.T) + self.visible_bias)\n",
        "       \n",
        "\n",
        "        return hidden_prob,visible_prob_reconstructed\n",
        "\n",
        "    def train(self, data, learning_rate=0.1, num_epochs=100, k=1):\n",
        "        num_samples = data.shape[0]\n",
        "        reconstruction_errors = []\n",
        "\n",
        "        for epoch in range(num_epochs):\n",
        "            np.random.shuffle(data)\n",
        "            error = 0\n",
        "\n",
        "            for sample in data:\n",
        "                visible_prob = sample\n",
        "\n",
        "                for _ in range(k):\n",
        "                    hidden_prob,visible_prob= self._gibbs_sampling(visible_prob)\n",
        "\n",
        "                \n",
        "                positive_association = np.outer(sample, hidden_prob)\n",
        "                negative_association = np.outer(visible_prob, self._sigmoid(np.dot(visible_prob, self.weights) + self.hidden_bias))\n",
        "\n",
        "                self.weights += learning_rate * (positive_association - negative_association)\n",
        "                self.visible_bias += learning_rate * (sample - visible_prob)\n",
        "                self.hidden_bias += learning_rate * (hidden_prob - self._sigmoid(np.dot(visible_prob, self.weights) + self.hidden_bias))\n",
        "\n",
        "                error += np.sum((sample - visible_prob)**2)\n",
        "\n",
        "            reconstruction_errors.append(error/num_samples)\n",
        "            print(\"Epoch %d, Reconstruction Error: %f\" % (epoch+1, error/num_samples))\n",
        "\n",
        "        return reconstruction_errors\n",
        "\n",
        "    def reconstruct(self, data):\n",
        "        hidden_prob = self._sigmoid(np.dot(data, self.weights) + self.hidden_bias)\n",
        "        reconstructed_data = self._sigmoid(np.dot(hidden_prob, self.weights.T) + self.visible_bias)\n",
        "        return reconstructed_data\n",
        "\n",
        "    def extract_features(self, data):\n",
        "        hidden_prob = self._sigmoid(np.dot(data, self.weights) + self.hidden_bias)\n",
        "        return hidden_prob\n",
        "\n",
        "class DeepBeliefNetwork:\n",
        "    def __init__(self, layer_sizes):\n",
        "        self.rbms = []\n",
        "        for i in range(len(layer_sizes) - 1):\n",
        "            rbm = RBM(layer_sizes[i], layer_sizes[i+1])\n",
        "            self.rbms.append(rbm)\n",
        "\n",
        "    def pretrain(self, data, learning_rate=0.1, num_epochs=2, k=1):\n",
        "        input_data = data\n",
        "        reconstruction_errors = []\n",
        "        for rbm in self.rbms:\n",
        "            reconstruction_errors.append(rbm.train(input_data, learning_rate, num_epochs, k))\n",
        "            input_data = rbm.extract_features(input_data)\n",
        "        return reconstruction_errors\n",
        "\n",
        "\n",
        "mnist = fetch_openml(\"mnist_784\")\n",
        "X = mnist.data / 255.0  \n",
        "y = mnist.target.astype(int)\n",
        "X_binarized = binarize(X)\n",
        "X_train, X_test, y_train, y_test = train_test_split(X_binarized, y, test_size=0.2, random_state=42)\n",
        "\n",
        "dbn = DeepBeliefNetwork(layer_sizes=[X_train.shape[1], 500, 500])\n",
        "\n",
        "reconstruction_error = dbn.pretrain(X_train)"
      ]
    },
    {
      "cell_type": "code",
      "execution_count": 6,
      "metadata": {
        "colab": {
          "base_uri": "https://localhost:8080/",
          "height": 472
        },
        "id": "kCtHWXnzhW2A",
        "outputId": "d1248275-25eb-4367-e933-a0919066b38f"
      },
      "outputs": [
        {
          "data": {
            "image/png": "[encoded data removed]",
            "text/plain": [
              "<Figure size 640x480 with 1 Axes>"
            ]
          },
          "metadata": {},
          "output_type": "display_data"
        }
      ],
      "source": [
        "\n",
        "plt.plot(reconstruction_error[0], label='RBM 1')\n",
        "plt.plot(reconstruction_error[1], label='RBM 2')\n",
        "plt.xlabel('Epochs')\n",
        "plt.ylabel('Reconstruction Error')\n",
        "plt.title('Reconstruction Error Over Epochs')\n",
        "plt.legend()\n",
        "plt.show()"
      ]
    },
    {
      "cell_type": "code",
      "execution_count": 7,
      "metadata": {
        "colab": {
          "base_uri": "https://localhost:8080/",
          "height": 364
        },
        "id": "mQUC8EN4dPL4",
        "outputId": "d6468e11-6fd3-4f38-b359-91d0f6c0093f"
      },
      "outputs": [
        {
          "data": {
            "image/png": "[encoded data removed]",
            "text/plain": [
              "<Figure size 800x400 with 2 Axes>"
            ]
          },
          "metadata": {},
          "output_type": "display_data"
        }
      ],
      "source": [
        "data=X_test\n",
        "reconstructed_data = dbn.rbms[0].reconstruct(data)\n",
        "\n",
        "# Plot the original and reconstructed images\n",
        "plt.figure(figsize=(8, 4))\n",
        "plt.subplot(1, 2, 1)\n",
        "plt.title(\"Original\")\n",
        "plt.imshow(data[0].reshape(28, 28), cmap='gray')\n",
        "plt.subplot(1, 2, 2)\n",
        "plt.title(\"Reconstructed\")\n",
        "plt.imshow(reconstructed_data[0].reshape(28, 28), cmap='gray')\n",
        "plt.show()\n"
      ]
    },
    {
      "cell_type": "code",
      "execution_count": 2,
      "metadata": {},
      "outputs": [
        {
          "name": "stderr",
          "output_type": "stream",
          "text": [
            "c:\\Users\\PC\\.conda\\envs\\tf\\lib\\site-packages\\sklearn\\datasets\\_openml.py:1002: FutureWarning: The default value of `parser` will change from `'liac-arff'` to `'auto'` in 1.4. You can set `parser='auto'` to silence this warning. Therefore, an `ImportError` will be raised from 1.4 if the dataset is dense and pandas is not installed. Note that the pandas parser may return different data types. See the Notes Section in fetch_openml's API doc for details.\n",
            "  warn(\n"
          ]
        },
        {
          "data": {
            "text/plain": [
              "784"
            ]
          },
          "execution_count": 2,
          "metadata": {},
          "output_type": "execute_result"
        }
      ],
      "source": []
    },
    {
      "cell_type": "code",
      "execution_count": null,
      "metadata": {},
      "outputs": [],
      "source": []
    }
  ],
  "metadata": {
    "accelerator": "GPU",
    "colab": {
      "gpuType": "T4",
      "provenance": []
    },
    "kernelspec": {
      "display_name": "Python 3",
      "name": "python3"
    },
    "language_info": {
      "codemirror_mode": {
        "name": "ipython",
        "version": 3
      },
      "file_extension": ".py",
      "mimetype": "text/x-python",
      "name": "python",
      "nbconvert_exporter": "python",
      "pygments_lexer": "ipython3",
      "version": "3.9.18"
    }
  },
  "nbformat": 4,
  "nbformat_minor": 0
}
