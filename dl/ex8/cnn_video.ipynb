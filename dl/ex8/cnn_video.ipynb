{
  "cells": [
    {
      "cell_type": "code",
      "execution_count": 1,
      "metadata": {
        "id": "cr5ORVQOjABN"
      },
      "outputs": [],
      "source": [
        "import tensorflow as tf\n",
        "from tensorflow.keras.models import Sequential\n",
        "from tensorflow.keras.layers import Conv3D, MaxPooling3D, Flatten, Dense, Dropout\n",
        "import matplotlib.pyplot as plt\n",
        "import os\n",
        "import cv2\n",
        "import numpy as np\n",
        "import pandas as pd"
      ]
    },
    {
      "cell_type": "code",
      "execution_count": 2,
      "metadata": {
        "id": "z2RzVsTKkHAJ"
      },
      "outputs": [],
      "source": [
        "height = 64\n",
        "width = 64\n",
        "desired_frames = 30\n",
        "channels = 3"
      ]
    },
    {
      "cell_type": "code",
      "execution_count": 7,
      "metadata": {
        "id": "Uih_KFNvkjNO"
      },
      "outputs": [],
      "source": [
        "train_dir = '/content/drive/MyDrive/ucf101_top5/train'\n",
        "test_dir = '/content/drive/MyDrive/ucf101_top5/test'"
      ]
    },
    {
      "cell_type": "code",
      "execution_count": 8,
      "metadata": {
        "id": "zulLL7L0kkZO"
      },
      "outputs": [],
      "source": [
        "train_csv_path = '/content/drive/MyDrive/ucf101_top5/train.csv'\n",
        "train_df = pd.read_csv(train_csv_path)"
      ]
    },
    {
      "cell_type": "code",
      "execution_count": 9,
      "metadata": {
        "id": "Xdi2QJgcklxL"
      },
      "outputs": [],
      "source": [
        "test_csv_path = '/content/drive/MyDrive/ucf101_top5/test.csv'\n",
        "test_df = pd.read_csv(test_csv_path)"
      ]
    },
    {
      "cell_type": "code",
      "execution_count": 10,
      "metadata": {
        "id": "0y4J30lpk5gR"
      },
      "outputs": [],
      "source": [
        "train_videos = []\n",
        "train_labels = []\n",
        "test_videos = []\n",
        "test_labels = []"
      ]
    },
    {
      "cell_type": "code",
      "execution_count": 11,
      "metadata": {
        "id": "HmV4bmsuk6dw"
      },
      "outputs": [],
      "source": [
        "def preprocess_video(video_path):\n",
        "    cap = cv2.VideoCapture(video_path)\n",
        "    frames = []\n",
        "    while True:\n",
        "        ret, frame = cap.read()\n",
        "        if not ret:\n",
        "            break\n",
        "        frame = cv2.resize(frame, (height, width))\n",
        "        frame = frame / 255.0\n",
        "        frames.append(frame)\n",
        "    cap.release()\n",
        "    if len(frames) < desired_frames:\n",
        "        frames.extend([np.zeros((height, width, channels)) for _ in range(desired_frames - len(frames))])\n",
        "    elif len(frames) > desired_frames:\n",
        "        frames = frames[:desired_frames]\n",
        "    return frames"
      ]
    },
    {
      "cell_type": "code",
      "execution_count": 12,
      "metadata": {
        "id": "KY2_5L1ik7Z2"
      },
      "outputs": [],
      "source": [
        "label_map = {}\n",
        "next_label = 0\n",
        "for index, row in train_df.iterrows():\n",
        "    video_path = os.path.join(train_dir, row['video_name'])\n",
        "    frames = preprocess_video(video_path)\n",
        "    train_videos.append(frames)\n",
        "    label = row['tag']\n",
        "    if label not in label_map:\n",
        "        label_map[label] = next_label\n",
        "        next_label += 1\n",
        "    train_labels.append(label_map[label])"
      ]
    },
    {
      "cell_type": "code",
      "execution_count": 13,
      "metadata": {
        "id": "0jI5nKVek9LB"
      },
      "outputs": [],
      "source": [
        "for index, row in test_df.iterrows():\n",
        "    video_path = os.path.join(test_dir, row['video_name'])\n",
        "    frames = preprocess_video(video_path)\n",
        "    test_videos.append(frames)\n",
        "    label = row['tag']\n",
        "    if label not in label_map:\n",
        "        label_map[label] = next_label\n",
        "        next_label += 1\n",
        "    test_labels.append(label_map[label])"
      ]
    },
    {
      "cell_type": "code",
      "execution_count": 14,
      "metadata": {
        "id": "JYIobrw1k_sL"
      },
      "outputs": [],
      "source": [
        "train_videos = np.array(train_videos)\n",
        "train_labels = np.array(train_labels)\n",
        "test_videos = np.array(test_videos)\n",
        "test_labels = np.array(test_labels)"
      ]
    },
    {
      "cell_type": "code",
      "execution_count": 15,
      "metadata": {
        "id": "oaT6QZIbmJHp"
      },
      "outputs": [],
      "source": [
        "model = Sequential([\n",
        "    Conv3D(64, kernel_size=(3, 3, 3), activation='relu', input_shape=(desired_frames, height, width, channels)),\n",
        "    MaxPooling3D(pool_size=(2, 2, 2)),\n",
        "    Conv3D(128, kernel_size=(3, 3, 3), activation='relu'),\n",
        "    MaxPooling3D(pool_size=(2, 2, 2)),\n",
        "    Conv3D(256, kernel_size=(3, 3, 3), activation='relu'),\n",
        "    MaxPooling3D(pool_size=(2, 2, 2)),\n",
        "    Flatten(),\n",
        "    Dense(512, activation='relu'),\n",
        "    Dropout(0.5),\n",
        "    Dense(5, activation='softmax')\n",
        "])"
      ]
    },
    {
      "cell_type": "code",
      "execution_count": 16,
      "metadata": {
        "id": "up2132SpmKPK"
      },
      "outputs": [],
      "source": [
        "model.compile(optimizer='adam', loss='sparse_categorical_crossentropy', metrics=['accuracy'])"
      ]
    },
    {
      "cell_type": "code",
      "execution_count": 17,
      "metadata": {
        "colab": {
          "base_uri": "https://localhost:8080/"
        },
        "id": "0F3LOqGXmL2s",
        "outputId": "ad99c920-f1b4-4388-a017-1d3924c9cbb3"
      },
      "outputs": [
        {
          "name": "stdout",
          "output_type": "stream",
          "text": [
            "Epoch 1/10\n",
            "19/19 [==============================] - 20s 533ms/step - loss: 1.8192 - accuracy: 0.2862 - val_loss: 1.3394 - val_accuracy: 0.4241\n",
            "Epoch 2/10\n",
            "19/19 [==============================] - 7s 377ms/step - loss: 1.0105 - accuracy: 0.6364 - val_loss: 1.0852 - val_accuracy: 0.5000\n",
            "Epoch 3/10\n",
            "19/19 [==============================] - 7s 353ms/step - loss: 0.5620 - accuracy: 0.7845 - val_loss: 0.8748 - val_accuracy: 0.6205\n",
            "Epoch 4/10\n",
            "19/19 [==============================] - 7s 361ms/step - loss: 0.3144 - accuracy: 0.8788 - val_loss: 0.8564 - val_accuracy: 0.6562\n",
            "Epoch 5/10\n",
            "19/19 [==============================] - 7s 388ms/step - loss: 0.2504 - accuracy: 0.9091 - val_loss: 1.0988 - val_accuracy: 0.6071\n",
            "Epoch 6/10\n",
            "19/19 [==============================] - 7s 367ms/step - loss: 0.1633 - accuracy: 0.9394 - val_loss: 0.7529 - val_accuracy: 0.6786\n",
            "Epoch 7/10\n",
            "19/19 [==============================] - 7s 374ms/step - loss: 0.0736 - accuracy: 0.9747 - val_loss: 0.7454 - val_accuracy: 0.7500\n",
            "Epoch 8/10\n",
            "19/19 [==============================] - 7s 399ms/step - loss: 0.0514 - accuracy: 0.9832 - val_loss: 1.0173 - val_accuracy: 0.7143\n",
            "Epoch 9/10\n",
            "19/19 [==============================] - 7s 357ms/step - loss: 0.0706 - accuracy: 0.9815 - val_loss: 1.9047 - val_accuracy: 0.6116\n",
            "Epoch 10/10\n",
            "19/19 [==============================] - 7s 383ms/step - loss: 0.0785 - accuracy: 0.9731 - val_loss: 0.9840 - val_accuracy: 0.6875\n"
          ]
        }
      ],
      "source": [
        "history = model.fit(train_videos, train_labels, epochs=10, validation_data=(test_videos, test_labels))"
      ]
    },
    {
      "cell_type": "code",
      "execution_count": 18,
      "metadata": {
        "colab": {
          "base_uri": "https://localhost:8080/"
        },
        "id": "akp-VoyPmM4V",
        "outputId": "2c75502d-c0dd-49cb-8851-ca1a1eceb08f"
      },
      "outputs": [
        {
          "name": "stdout",
          "output_type": "stream",
          "text": [
            "7/7 [==============================] - 1s 128ms/step - loss: 0.9840 - accuracy: 0.6875\n",
            "Test accuracy: 0.6875\n"
          ]
        }
      ],
      "source": [
        "test_loss, test_acc = model.evaluate(test_videos, test_labels)\n",
        "print(f'Test accuracy: {test_acc}')"
      ]
    },
    {
      "cell_type": "code",
      "execution_count": 19,
      "metadata": {
        "colab": {
          "base_uri": "https://localhost:8080/"
        },
        "id": "WzmBRissmR_4",
        "outputId": "37cecd54-7c02-43b8-eb80-318c50c38015"
      },
      "outputs": [
        {
          "name": "stdout",
          "output_type": "stream",
          "text": [
            "7/7 [==============================] - 1s 120ms/step\n"
          ]
        }
      ],
      "source": [
        "predictions = model.predict(test_videos)"
      ]
    },
    {
      "cell_type": "code",
      "execution_count": 20,
      "metadata": {
        "colab": {
          "base_uri": "https://localhost:8080/"
        },
        "id": "jHdz3FLHmTg_",
        "outputId": "43cd1141-cec8-4c7e-b6d4-98c5b099f72f"
      },
      "outputs": [
        {
          "name": "stdout",
          "output_type": "stream",
          "text": [
            "Predicted label: CricketShot, True label: CricketShot\n",
            "Predicted label: CricketShot, True label: CricketShot\n",
            "Predicted label: TennisSwing, True label: CricketShot\n",
            "Predicted label: CricketShot, True label: CricketShot\n",
            "Predicted label: CricketShot, True label: CricketShot\n",
            "Predicted label: TennisSwing, True label: CricketShot\n",
            "Predicted label: TennisSwing, True label: CricketShot\n",
            "Predicted label: CricketShot, True label: CricketShot\n",
            "Predicted label: CricketShot, True label: CricketShot\n",
            "Predicted label: CricketShot, True label: CricketShot\n",
            "Predicted label: CricketShot, True label: CricketShot\n",
            "Predicted label: CricketShot, True label: CricketShot\n",
            "Predicted label: CricketShot, True label: CricketShot\n",
            "Predicted label: CricketShot, True label: CricketShot\n",
            "Predicted label: CricketShot, True label: CricketShot\n",
            "Predicted label: CricketShot, True label: CricketShot\n",
            "Predicted label: CricketShot, True label: CricketShot\n",
            "Predicted label: TennisSwing, True label: CricketShot\n",
            "Predicted label: TennisSwing, True label: CricketShot\n",
            "Predicted label: CricketShot, True label: CricketShot\n",
            "Predicted label: CricketShot, True label: CricketShot\n",
            "Predicted label: TennisSwing, True label: CricketShot\n",
            "Predicted label: TennisSwing, True label: CricketShot\n",
            "Predicted label: TennisSwing, True label: CricketShot\n",
            "Predicted label: CricketShot, True label: CricketShot\n",
            "Predicted label: CricketShot, True label: CricketShot\n",
            "Predicted label: ShavingBeard, True label: CricketShot\n",
            "Predicted label: TennisSwing, True label: CricketShot\n",
            "Predicted label: CricketShot, True label: CricketShot\n",
            "Predicted label: CricketShot, True label: CricketShot\n",
            "Predicted label: CricketShot, True label: CricketShot\n",
            "Predicted label: CricketShot, True label: CricketShot\n",
            "Predicted label: CricketShot, True label: CricketShot\n",
            "Predicted label: CricketShot, True label: CricketShot\n",
            "Predicted label: CricketShot, True label: CricketShot\n",
            "Predicted label: CricketShot, True label: CricketShot\n",
            "Predicted label: CricketShot, True label: CricketShot\n",
            "Predicted label: CricketShot, True label: CricketShot\n",
            "Predicted label: CricketShot, True label: CricketShot\n",
            "Predicted label: CricketShot, True label: CricketShot\n",
            "Predicted label: CricketShot, True label: CricketShot\n",
            "Predicted label: CricketShot, True label: CricketShot\n",
            "Predicted label: ShavingBeard, True label: CricketShot\n",
            "Predicted label: CricketShot, True label: CricketShot\n",
            "Predicted label: CricketShot, True label: CricketShot\n",
            "Predicted label: CricketShot, True label: CricketShot\n",
            "Predicted label: CricketShot, True label: CricketShot\n",
            "Predicted label: TennisSwing, True label: CricketShot\n",
            "Predicted label: TennisSwing, True label: CricketShot\n",
            "Predicted label: Punch, True label: PlayingCello\n",
            "Predicted label: Punch, True label: PlayingCello\n",
            "Predicted label: Punch, True label: PlayingCello\n",
            "Predicted label: Punch, True label: PlayingCello\n",
            "Predicted label: Punch, True label: PlayingCello\n",
            "Predicted label: Punch, True label: PlayingCello\n",
            "Predicted label: Punch, True label: PlayingCello\n",
            "Predicted label: Punch, True label: PlayingCello\n",
            "Predicted label: Punch, True label: PlayingCello\n",
            "Predicted label: Punch, True label: PlayingCello\n",
            "Predicted label: Punch, True label: PlayingCello\n",
            "Predicted label: PlayingCello, True label: PlayingCello\n",
            "Predicted label: Punch, True label: PlayingCello\n",
            "Predicted label: PlayingCello, True label: PlayingCello\n",
            "Predicted label: PlayingCello, True label: PlayingCello\n",
            "Predicted label: PlayingCello, True label: PlayingCello\n",
            "Predicted label: PlayingCello, True label: PlayingCello\n",
            "Predicted label: PlayingCello, True label: PlayingCello\n",
            "Predicted label: PlayingCello, True label: PlayingCello\n",
            "Predicted label: Punch, True label: PlayingCello\n",
            "Predicted label: Punch, True label: PlayingCello\n",
            "Predicted label: Punch, True label: PlayingCello\n",
            "Predicted label: Punch, True label: PlayingCello\n",
            "Predicted label: Punch, True label: PlayingCello\n",
            "Predicted label: Punch, True label: PlayingCello\n",
            "Predicted label: TennisSwing, True label: PlayingCello\n",
            "Predicted label: Punch, True label: PlayingCello\n",
            "Predicted label: PlayingCello, True label: PlayingCello\n",
            "Predicted label: PlayingCello, True label: PlayingCello\n",
            "Predicted label: TennisSwing, True label: PlayingCello\n",
            "Predicted label: PlayingCello, True label: PlayingCello\n",
            "Predicted label: PlayingCello, True label: PlayingCello\n",
            "Predicted label: PlayingCello, True label: PlayingCello\n",
            "Predicted label: PlayingCello, True label: PlayingCello\n",
            "Predicted label: PlayingCello, True label: PlayingCello\n",
            "Predicted label: PlayingCello, True label: PlayingCello\n",
            "Predicted label: ShavingBeard, True label: PlayingCello\n",
            "Predicted label: PlayingCello, True label: PlayingCello\n",
            "Predicted label: PlayingCello, True label: PlayingCello\n",
            "Predicted label: PlayingCello, True label: PlayingCello\n",
            "Predicted label: PlayingCello, True label: PlayingCello\n",
            "Predicted label: PlayingCello, True label: PlayingCello\n",
            "Predicted label: PlayingCello, True label: PlayingCello\n",
            "Predicted label: PlayingCello, True label: PlayingCello\n",
            "Predicted label: Punch, True label: Punch\n",
            "Predicted label: ShavingBeard, True label: Punch\n",
            "Predicted label: TennisSwing, True label: Punch\n",
            "Predicted label: Punch, True label: Punch\n",
            "Predicted label: Punch, True label: Punch\n",
            "Predicted label: ShavingBeard, True label: Punch\n",
            "Predicted label: Punch, True label: Punch\n",
            "Predicted label: PlayingCello, True label: Punch\n",
            "Predicted label: Punch, True label: Punch\n",
            "Predicted label: Punch, True label: Punch\n",
            "Predicted label: Punch, True label: Punch\n",
            "Predicted label: Punch, True label: Punch\n",
            "Predicted label: Punch, True label: Punch\n",
            "Predicted label: Punch, True label: Punch\n",
            "Predicted label: Punch, True label: Punch\n",
            "Predicted label: Punch, True label: Punch\n",
            "Predicted label: Punch, True label: Punch\n",
            "Predicted label: Punch, True label: Punch\n",
            "Predicted label: Punch, True label: Punch\n",
            "Predicted label: Punch, True label: Punch\n",
            "Predicted label: Punch, True label: Punch\n",
            "Predicted label: Punch, True label: Punch\n",
            "Predicted label: Punch, True label: Punch\n",
            "Predicted label: Punch, True label: Punch\n",
            "Predicted label: Punch, True label: Punch\n",
            "Predicted label: Punch, True label: Punch\n",
            "Predicted label: Punch, True label: Punch\n",
            "Predicted label: Punch, True label: Punch\n",
            "Predicted label: Punch, True label: Punch\n",
            "Predicted label: Punch, True label: Punch\n",
            "Predicted label: Punch, True label: Punch\n",
            "Predicted label: Punch, True label: Punch\n",
            "Predicted label: Punch, True label: Punch\n",
            "Predicted label: Punch, True label: Punch\n",
            "Predicted label: Punch, True label: Punch\n",
            "Predicted label: Punch, True label: Punch\n",
            "Predicted label: Punch, True label: Punch\n",
            "Predicted label: Punch, True label: Punch\n",
            "Predicted label: PlayingCello, True label: Punch\n",
            "Predicted label: PlayingCello, True label: ShavingBeard\n",
            "Predicted label: PlayingCello, True label: ShavingBeard\n",
            "Predicted label: PlayingCello, True label: ShavingBeard\n",
            "Predicted label: PlayingCello, True label: ShavingBeard\n",
            "Predicted label: ShavingBeard, True label: ShavingBeard\n",
            "Predicted label: ShavingBeard, True label: ShavingBeard\n",
            "Predicted label: ShavingBeard, True label: ShavingBeard\n",
            "Predicted label: PlayingCello, True label: ShavingBeard\n",
            "Predicted label: PlayingCello, True label: ShavingBeard\n",
            "Predicted label: PlayingCello, True label: ShavingBeard\n",
            "Predicted label: PlayingCello, True label: ShavingBeard\n",
            "Predicted label: ShavingBeard, True label: ShavingBeard\n",
            "Predicted label: ShavingBeard, True label: ShavingBeard\n",
            "Predicted label: ShavingBeard, True label: ShavingBeard\n",
            "Predicted label: ShavingBeard, True label: ShavingBeard\n",
            "Predicted label: ShavingBeard, True label: ShavingBeard\n",
            "Predicted label: ShavingBeard, True label: ShavingBeard\n",
            "Predicted label: ShavingBeard, True label: ShavingBeard\n",
            "Predicted label: ShavingBeard, True label: ShavingBeard\n",
            "Predicted label: PlayingCello, True label: ShavingBeard\n",
            "Predicted label: PlayingCello, True label: ShavingBeard\n",
            "Predicted label: ShavingBeard, True label: ShavingBeard\n",
            "Predicted label: Punch, True label: ShavingBeard\n",
            "Predicted label: Punch, True label: ShavingBeard\n",
            "Predicted label: Punch, True label: ShavingBeard\n",
            "Predicted label: Punch, True label: ShavingBeard\n",
            "Predicted label: Punch, True label: ShavingBeard\n",
            "Predicted label: PlayingCello, True label: ShavingBeard\n",
            "Predicted label: Punch, True label: ShavingBeard\n",
            "Predicted label: ShavingBeard, True label: ShavingBeard\n",
            "Predicted label: PlayingCello, True label: ShavingBeard\n",
            "Predicted label: PlayingCello, True label: ShavingBeard\n",
            "Predicted label: PlayingCello, True label: ShavingBeard\n",
            "Predicted label: ShavingBeard, True label: ShavingBeard\n",
            "Predicted label: ShavingBeard, True label: ShavingBeard\n",
            "Predicted label: ShavingBeard, True label: ShavingBeard\n",
            "Predicted label: ShavingBeard, True label: ShavingBeard\n",
            "Predicted label: ShavingBeard, True label: ShavingBeard\n",
            "Predicted label: ShavingBeard, True label: ShavingBeard\n",
            "Predicted label: ShavingBeard, True label: ShavingBeard\n",
            "Predicted label: ShavingBeard, True label: ShavingBeard\n",
            "Predicted label: ShavingBeard, True label: ShavingBeard\n",
            "Predicted label: ShavingBeard, True label: ShavingBeard\n",
            "Predicted label: CricketShot, True label: TennisSwing\n",
            "Predicted label: CricketShot, True label: TennisSwing\n",
            "Predicted label: CricketShot, True label: TennisSwing\n",
            "Predicted label: CricketShot, True label: TennisSwing\n",
            "Predicted label: CricketShot, True label: TennisSwing\n",
            "Predicted label: CricketShot, True label: TennisSwing\n",
            "Predicted label: CricketShot, True label: TennisSwing\n",
            "Predicted label: PlayingCello, True label: TennisSwing\n",
            "Predicted label: TennisSwing, True label: TennisSwing\n",
            "Predicted label: TennisSwing, True label: TennisSwing\n",
            "Predicted label: TennisSwing, True label: TennisSwing\n",
            "Predicted label: TennisSwing, True label: TennisSwing\n",
            "Predicted label: TennisSwing, True label: TennisSwing\n",
            "Predicted label: TennisSwing, True label: TennisSwing\n",
            "Predicted label: TennisSwing, True label: TennisSwing\n",
            "Predicted label: TennisSwing, True label: TennisSwing\n",
            "Predicted label: TennisSwing, True label: TennisSwing\n",
            "Predicted label: TennisSwing, True label: TennisSwing\n",
            "Predicted label: TennisSwing, True label: TennisSwing\n",
            "Predicted label: CricketShot, True label: TennisSwing\n",
            "Predicted label: TennisSwing, True label: TennisSwing\n",
            "Predicted label: TennisSwing, True label: TennisSwing\n",
            "Predicted label: TennisSwing, True label: TennisSwing\n",
            "Predicted label: TennisSwing, True label: TennisSwing\n",
            "Predicted label: TennisSwing, True label: TennisSwing\n",
            "Predicted label: TennisSwing, True label: TennisSwing\n",
            "Predicted label: TennisSwing, True label: TennisSwing\n",
            "Predicted label: TennisSwing, True label: TennisSwing\n",
            "Predicted label: TennisSwing, True label: TennisSwing\n",
            "Predicted label: TennisSwing, True label: TennisSwing\n",
            "Predicted label: CricketShot, True label: TennisSwing\n",
            "Predicted label: TennisSwing, True label: TennisSwing\n",
            "Predicted label: TennisSwing, True label: TennisSwing\n",
            "Predicted label: TennisSwing, True label: TennisSwing\n",
            "Predicted label: TennisSwing, True label: TennisSwing\n",
            "Predicted label: TennisSwing, True label: TennisSwing\n",
            "Predicted label: TennisSwing, True label: TennisSwing\n",
            "Predicted label: TennisSwing, True label: TennisSwing\n",
            "Predicted label: TennisSwing, True label: TennisSwing\n",
            "Predicted label: TennisSwing, True label: TennisSwing\n",
            "Predicted label: TennisSwing, True label: TennisSwing\n",
            "Predicted label: TennisSwing, True label: TennisSwing\n",
            "Predicted label: TennisSwing, True label: TennisSwing\n",
            "Predicted label: TennisSwing, True label: TennisSwing\n",
            "Predicted label: TennisSwing, True label: TennisSwing\n",
            "Predicted label: TennisSwing, True label: TennisSwing\n",
            "Predicted label: TennisSwing, True label: TennisSwing\n",
            "Predicted label: TennisSwing, True label: TennisSwing\n",
            "Predicted label: TennisSwing, True label: TennisSwing\n"
          ]
        }
      ],
      "source": [
        "reverse_label_map = {v: k for k, v in label_map.items()}\n",
        "\n",
        "predicted_labels = np.argmax(predictions, axis=1)\n",
        "\n",
        "for i in range(len(test_labels)):\n",
        "    predicted_label_name = reverse_label_map[predicted_labels[i]]\n",
        "    true_label_name = reverse_label_map[test_labels[i]]\n",
        "    print(f\"Predicted label: {predicted_label_name}, True label: {true_label_name}\")\n"
      ]
    },
    {
      "cell_type": "code",
      "execution_count": 21,
      "metadata": {
        "colab": {
          "base_uri": "https://localhost:8080/",
          "height": 472
        },
        "id": "2W6rUcDgmU5d",
        "outputId": "b9b246ba-7669-4342-974a-d2bdfdf5e853"
      },
      "outputs": [
        {
          "data": {
            "image/png": "[encoded data removed]",
            "text/plain": [
              "<Figure size 640x480 with 1 Axes>"
            ]
          },
          "metadata": {},
          "output_type": "display_data"
        }
      ],
      "source": [
        "plt.plot(history.history['loss'], label='Training Loss')\n",
        "plt.plot(history.history['val_loss'], label='Testing Loss')\n",
        "plt.xlabel('Epoch')\n",
        "plt.ylabel('Loss')\n",
        "plt.legend()\n",
        "plt.title('Training and Testing Loss')\n",
        "plt.show()"
      ]
    },
    {
      "cell_type": "code",
      "execution_count": 22,
      "metadata": {
        "colab": {
          "base_uri": "https://localhost:8080/",
          "height": 1000
        },
        "id": "qagv12StmZWB",
        "outputId": "293e08d2-056a-4957-b1c8-02d4027ffbb9"
      },
      "outputs": [
        {
          "data": {
            "image/png": "[encoded data removed]",
            "text/plain": [
              "<IPython.core.display.Image object>"
            ]
          },
          "execution_count": 22,
          "metadata": {},
          "output_type": "execute_result"
        }
      ],
      "source": [
        "from keras.utils import plot_model\n",
        "plot_model(model, to_file = 'cnn_video.png')"
      ]
    },
    {
      "cell_type": "code",
      "execution_count": null,
      "metadata": {
        "id": "zZqFYoz5mb-n"
      },
      "outputs": [],
      "source": []
    }
  ],
  "metadata": {
    "accelerator": "GPU",
    "colab": {
      "gpuType": "T4",
      "provenance": []
    },
    "kernelspec": {
      "display_name": "Python 3",
      "name": "python3"
    },
    "language_info": {
      "name": "python"
    }
  },
  "nbformat": 4,
  "nbformat_minor": 0
}
