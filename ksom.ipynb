{
 "cells": [
  {
   "cell_type": "code",
   "execution_count": 1,
   "metadata": {},
   "outputs": [],
   "source": [
    "import math\n",
    "import numpy as np\n"
   ]
  },
  {
   "cell_type": "code",
   "execution_count": 5,
   "metadata": {},
   "outputs": [],
   "source": [
    "import torch"
   ]
  },
  {
   "cell_type": "code",
   "execution_count": 6,
   "metadata": {},
   "outputs": [],
   "source": [
    "\n",
    "w=torch.tensor([[0.2,0.4,0.6,0.8],[0.9,0.7,0.5,0.3]])\n",
    "def cal_winner(x):\n",
    "    d=[]\n",
    "    s=0\n",
    "    t=0\n",
    "    while(1):\n",
    "           if t>len(w)-1:\n",
    "                  return d\n",
    "           else:\n",
    "                for i in range(len(x)):\n",
    "                    s+=math.pow((x[i]-w[t][i]),2)\n",
    "\n",
    "                d.append(s)\n",
    "                t=t+1\n",
    "\n",
    "\n"
   ]
  },
  {
   "cell_type": "code",
   "execution_count": 7,
   "metadata": {},
   "outputs": [],
   "source": [
    "\n",
    "\n",
    "\n",
    "def updateweight(x,idx,a):\n",
    "    for i in range(len(x)):\n",
    "        w[idx][i]=w[idx][i]+a*(x[i]-w[idx][i])\n",
    "t=torch.tensor([[0,1,1,0],[0,1,0,1],[1,0,1,0],[0,0,1,0]])\n",
    "epochs=4\n",
    "alpha=0.5\n"
   ]
  },
  {
   "cell_type": "code",
   "execution_count": 8,
   "metadata": {},
   "outputs": [
    {
     "name": "stdout",
     "output_type": "stream",
     "text": [
      "tensor([[0.2656, 0.3869, 0.7860, 0.2176],\n",
      "        [0.9000, 0.7000, 0.5000, 0.3000]])\n"
     ]
    }
   ],
   "source": [
    "\n",
    "\n",
    "for i in range(epochs):\n",
    "    for j in range(len(t[0])):\n",
    "        d=cal_winner(t[j])\n",
    "        win_idx=np.argmin(d)\n",
    "\n",
    "        updateweight(t[j],win_idx,alpha)\n",
    "    alpha=alpha/2\n",
    "\n",
    "print(w)"
   ]
  },
  {
   "cell_type": "code",
   "execution_count": null,
   "metadata": {},
   "outputs": [],
   "source": []
  }
 ],
 "metadata": {
  "kernelspec": {
   "display_name": "Python 3",
   "language": "python",
   "name": "python3"
  },
  "language_info": {
   "codemirror_mode": {
    "name": "ipython",
    "version": 3
   },
   "file_extension": ".py",
   "mimetype": "text/x-python",
   "name": "python",
   "nbconvert_exporter": "python",
   "pygments_lexer": "ipython3",
   "version": "3.10.0"
  }
 },
 "nbformat": 4,
 "nbformat_minor": 2
}
